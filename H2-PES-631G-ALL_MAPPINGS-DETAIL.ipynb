{
 "cells": [
  {
   "cell_type": "markdown",
   "id": "heard-missile",
   "metadata": {},
   "source": [
    "# Disociační křivka molekulárního vodíku - detail v oblasti minima\n",
    "V tomto notebooku je ukázka výpočtu disociační křivky molekulárního vodíku, konkrétně úzké části v oblasti minima. Použit zde bude bazický soubor 6-31. Budou porovnány výsledky při použití různých mapování jak z hlediska přesnosti, tak z hlediska potřebného počtu vyhodnocení. Výpočty dále urychlíme též využitím tzv. bootstrappingu, kdy vzorkovač (BOPES) využívá optimálních variačních parametrů daného stupně volnosti jako počátečních bodů pro VQE v dalších stupních volnosti."
   ]
  },
  {
   "cell_type": "code",
   "execution_count": 1,
   "id": "charitable-official",
   "metadata": {},
   "outputs": [
    {
     "data": {
      "text/plain": [
       "{'qiskit-terra': '0.21.0', 'qiskit-aer': '0.10.4', 'qiskit-ignis': '0.5.2', 'qiskit-ibmq-provider': '0.19.2', 'qiskit': '0.37.0', 'qiskit-nature': '0.4.3', 'qiskit-finance': None, 'qiskit-optimization': None, 'qiskit-machine-learning': None}"
      ]
     },
     "execution_count": 1,
     "metadata": {},
     "output_type": "execute_result"
    }
   ],
   "source": [
    "#version control\n",
    "import qiskit\n",
    "qiskit.__qiskit_version__"
   ]
  },
  {
   "cell_type": "code",
   "execution_count": 2,
   "id": "another-crazy",
   "metadata": {},
   "outputs": [],
   "source": [
    "# import common packages\n",
    "import numpy as np\n",
    "import pandas as pd\n",
    "import matplotlib.pyplot as plt\n",
    "from functools import partial\n",
    "\n",
    "# import qiskit tools\n",
    "from qiskit.utils import QuantumInstance, algorithm_globals\n",
    "from qiskit import Aer\n",
    "from qiskit.algorithms.minimum_eigen_solvers import NumPyMinimumEigensolver, VQE\n",
    "from qiskit.algorithms.optimizers import SLSQP\n",
    "from qiskit.circuit.library import ExcitationPreserving\n",
    "from qiskit import BasicAer\n",
    "from qiskit.algorithms import NumPyMinimumEigensolver, VQE\n",
    "\n",
    "# improt qiskit nature tools\n",
    "from qiskit_nature.problems.second_quantization import ElectronicStructureProblem\n",
    "from qiskit_nature.converters.second_quantization import QubitConverter\n",
    "from qiskit_nature.mappers.second_quantization import JordanWignerMapper, ParityMapper, BravyiKitaevMapper\n",
    "from qiskit_nature.algorithms import GroundStateEigensolver\n",
    "from qiskit_nature.drivers import UnitsType, Molecule\n",
    "from qiskit_nature.drivers.second_quantization import (\n",
    "    ElectronicStructureDriverType,\n",
    "    ElectronicStructureMoleculeDriver,\n",
    ")\n",
    "from qiskit_nature.algorithms.pes_samplers import BOPESSampler\n",
    "\n",
    "import warnings\n",
    "\n",
    "warnings.simplefilter(\"ignore\", np.RankWarning)\n",
    "\n",
    "algorithm_globals.random_seed = 75"
   ]
  },
  {
   "cell_type": "markdown",
   "id": "retired-prospect",
   "metadata": {},
   "source": [
    "Jako klasický driver volíme Psi4 a jako bazický soubor STO3G."
   ]
  },
  {
   "cell_type": "code",
   "execution_count": 3,
   "id": "oriented-absence",
   "metadata": {},
   "outputs": [],
   "source": [
    "#define the distance which will be regarded as a degree of freedom\n",
    "distance = partial(Molecule.absolute_distance, atom_pair=(1, 0))\n",
    "\n",
    "#define the molecule\n",
    "molecule = Molecule(\n",
    "    geometry=[(\"H\", [0.0, 0.0, 0.0]), (\"H\", [0.0, 0.0, 0.3])],\n",
    "    degrees_of_freedom=[distance],\n",
    ")\n",
    "\n",
    "# pass molecule to PSI4 driver with sto3g basis\n",
    "driver = ElectronicStructureMoleculeDriver(\n",
    "    molecule, basis=\"6-31g\", driver_type=ElectronicStructureDriverType.PSI4\n",
    ")"
   ]
  },
  {
   "cell_type": "markdown",
   "id": "sporting-pacific",
   "metadata": {},
   "source": [
    "Zde můžeme vidět, jak vypadá fermionový operátor v druhém kvantování:"
   ]
  },
  {
   "cell_type": "code",
   "execution_count": 4,
   "id": "expired-ridge",
   "metadata": {},
   "outputs": [
    {
     "name": "stdout",
     "output_type": "stream",
     "text": [
      "Fermionic Operator\n",
      "register length=8, number terms=528\n",
      "  -1.6354187225929817 * ( +_0 -_0 )\n",
      "+ -0.21531189509470797 * ( +_0 -_2 )\n",
      "+ -0.4677371911218105 * ( +_1 -_1 )\n",
      "+ -0.2077838530542889 * ( +_1 -_3 )\n",
      "+ -0.21531189509470794 * ( +_2 -_0 )\n",
      "+ -0.409726538 ...\n"
     ]
    }
   ],
   "source": [
    "#define eloctronic structure problem\n",
    "es_problem = ElectronicStructureProblem(driver)\n",
    "second_q_op = es_problem.second_q_ops()\n",
    "print(second_q_op[0])"
   ]
  },
  {
   "cell_type": "markdown",
   "id": "comfortable-aquarium",
   "metadata": {},
   "source": [
    "## Jordan-Wignerovo mapování\n",
    "Jako první se podíváme na Jordan-Wignerovo mapování. Qubitový Hamiltonián zde má následující tvar:"
   ]
  },
  {
   "cell_type": "code",
   "execution_count": 5,
   "id": "pharmaceutical-creativity",
   "metadata": {},
   "outputs": [
    {
     "name": "stdout",
     "output_type": "stream",
     "text": [
      "2.0489637661958295 * IIIIIIII\n",
      "- 0.23987258067264672 * IIIIIIIZ\n",
      "+ 0.08289254060917936 * IIIIIYZY\n",
      "+ 0.08289254060917936 * IIIIIXZX\n",
      "- 0.4301236155125805 * IIIIIIZI\n",
      "+ 0.027996362957175686 * IIIIYZYI\n",
      "+ 0.027996362957175686 * IIIIXZXI\n",
      "- 0.5883567403032339 * IIIIIZII\n",
      "- 1.570185917182014 * IIIIZIII\n",
      "- 0.23987258067264658 * IIIZIIII\n",
      "+ 0.08289254060917936 * IYZYIIII\n",
      "+ 0.08289254060917936 * IXZXIIII\n",
      "- 0.4301236155125805 * IIZIIIII\n",
      "+ 0.02799636295717571 * YZYIIIII\n",
      "+ 0.02799636295717571 * XZXIIIII\n",
      "- 0.588356740303234 * IZIIIIII\n",
      "- 1.570185917182014 * ZIIIIIII\n",
      "+ 0.09564481599814345 * IIIIIIZZ\n",
      "- 0.01836480653461932 * IIIIYZYZ\n",
      "- 0.01836480653461932 * IIIIXZXZ\n",
      "+ 0.11185014141628051 * IIIIIZIZ\n",
      "+ 0.1725765237730976 * IIIIZIIZ\n",
      "- 0.014596538123107706 * IIIIIYIY\n",
      "- 0.014596538123107706 * IIIIIXIX\n",
      "+ 0.0161672324603783 * IIIIYXXY\n",
      "+ 0.01229038975700995 * IIIIYYYY\n",
      "- 0.0038768427033683134 * IIIIXXYY\n",
      "- 0.0038768427033683134 * IIIIYYXX\n",
      "+ 0.01229038975700995 * IIIIXXXX\n",
      "+ 0.0161672324603783 * IIIIXYYX\n",
      "- 0.03483512779635464 * IIIIZYZY\n",
      "- 0.03483512779635464 * IIIIZXZX\n",
      "+ 0.2154396688846053 * IIIZIIIZ\n",
      "- 0.053827973633803164 * IIIZIYZY\n",
      "- 0.053827973633803164 * IIIZIXZX\n",
      "+ 0.009503399421001741 * IIYYIIYY\n",
      "+ 0.009503399421001741 * IIXXIIYY\n",
      "+ 0.009503399421001741 * IIYYIIXX\n",
      "+ 0.009503399421001741 * IIXXIIXX\n",
      "+ 0.015216350157807255 * IIYYYZZY\n",
      "+ 0.015216350157807255 * IIXXYZZY\n",
      "+ 0.015216350157807255 * IIYYXZZX\n",
      "+ 0.015216350157807255 * IIXXXZZX\n",
      "- 0.053827973633803164 * IYZYIIIZ\n",
      "- 0.053827973633803164 * IXZXIIIZ\n",
      "+ 0.028485241763701083 * IYZYIYZY\n",
      "+ 0.028485241763701083 * IXZXIYZY\n",
      "+ 0.028485241763701083 * IYZYIXZX\n",
      "+ 0.028485241763701083 * IXZXIXZX\n",
      "+ 0.015216350157807253 * YZZYIIYY\n",
      "+ 0.015216350157807253 * XZZXIIYY\n",
      "+ 0.015216350157807253 * YZZYIIXX\n",
      "+ 0.015216350157807253 * XZZXIIXX\n",
      "+ 0.0440106695247861 * YZZYYZZY\n",
      "+ 0.0440106695247861 * XZZXYZZY\n",
      "+ 0.0440106695247861 * YZZYXZZX\n",
      "+ 0.0440106695247861 * XZZXXZZX\n",
      "+ 0.10514821541914522 * IIZIIIIZ\n",
      "- 0.005830419598360427 * IIZIIYZY\n",
      "- 0.005830419598360427 * IIZIIXZX\n",
      "- 0.008766118524747294 * IYYIIIYY\n",
      "- 0.008766118524747294 * IXXIIIYY\n",
      "- 0.008766118524747294 * IYYIIIXX\n",
      "- 0.008766118524747294 * IXXIIIXX\n",
      "- 0.00493989813684215 * IYYIYZZY\n",
      "- 0.00493989813684215 * IXXIYZZY\n",
      "- 0.00493989813684215 * IYYIXZZX\n",
      "- 0.00493989813684215 * IXXIXZZX\n",
      "- 0.033581156692426485 * YZYIIIIZ\n",
      "- 0.033581156692426485 * XZXIIIIZ\n",
      "+ 0.011227334323536144 * YZYIIYZY\n",
      "+ 0.011227334323536144 * XZXIIYZY\n",
      "+ 0.011227334323536144 * YZYIIXZX\n",
      "+ 0.011227334323536144 * XZXIIXZX\n",
      "+ 0.14033538317998157 * IZIIIIIZ\n",
      "- 0.024082035995106842 * IZIIIYZY\n",
      "- 0.024082035995106842 * IZIIIXZX\n",
      "+ 0.007350491620167774 * YYIIIIYY\n",
      "+ 0.007350491620167774 * XXIIIIYY\n",
      "+ 0.007350491620167774 * YYIIIIXX\n",
      "+ 0.007350491620167774 * XXIIIIXX\n",
      "+ 0.02254126521344591 * YYIIYZZY\n",
      "+ 0.02254126521344591 * XXIIYZZY\n",
      "+ 0.02254126521344591 * YYIIXZZX\n",
      "+ 0.02254126521344591 * XXIIXZZX\n",
      "+ 0.21658719329788378 * ZIIIIIIZ\n",
      "- 0.05737639300980054 * ZIIIIYZY\n",
      "- 0.05737639300980054 * ZIIIIXZX\n",
      "+ 0.07624645876879245 * IIIIIZZI\n",
      "+ 0.09682819951786377 * IIIIZIZI\n",
      "- 0.019420915085326975 * IIIIYIYI\n",
      "- 0.019420915085326975 * IIIIXIXI\n",
      "+ 0.10514821541914522 * IIIZIIZI\n",
      "- 0.033581156692426485 * IIIZYZYI\n",
      "- 0.033581156692426485 * IIIZXZXI\n",
      "- 0.008766118524747296 * IIYYIYYI\n",
      "- 0.008766118524747296 * IIXXIYYI\n",
      "- 0.008766118524747296 * IIYYIXXI\n",
      "- 0.008766118524747296 * IIXXIXXI\n",
      "- 0.005830419598360427 * IYZYIIZI\n",
      "- 0.005830419598360427 * IXZXIIZI\n",
      "+ 0.011227334323536144 * IYZYYZYI\n",
      "+ 0.011227334323536144 * IXZXYZYI\n",
      "+ 0.011227334323536144 * IYZYXZXI\n",
      "+ 0.011227334323536144 * IXZXXZXI\n",
      "- 0.0049398981368421494 * YZZYIYYI\n",
      "- 0.0049398981368421494 * XZZXIYYI\n",
      "- 0.0049398981368421494 * YZZYIXXI\n",
      "- 0.0049398981368421494 * XZZXIXXI\n",
      "+ 0.09293603400972804 * IIZIIIZI\n",
      "- 0.008315386987069762 * IIZIYZYI\n",
      "- 0.008315386987069762 * IIZIXZXI\n",
      "+ 0.014314189423418291 * IYYIIYYI\n",
      "+ 0.014314189423418291 * IXXIIYYI\n",
      "+ 0.014314189423418291 * IYYIIXXI\n",
      "+ 0.014314189423418291 * IXXIIXXI\n",
      "- 0.008315386987069762 * YZYIIIZI\n",
      "- 0.008315386987069762 * XZXIIIZI\n",
      "+ 0.009799639649737926 * YZYIYZYI\n",
      "+ 0.009799639649737926 * XZXIYZYI\n",
      "+ 0.009799639649737926 * YZYIXZXI\n",
      "+ 0.009799639649737926 * XZXIXZXI\n",
      "+ 0.0905606481922108 * IZIIIIZI\n",
      "- 0.015383064971252554 * IZIIYZYI\n",
      "- 0.015383064971252554 * IZIIXZXI\n",
      "- 0.004037850114074401 * YYIIIYYI\n",
      "- 0.004037850114074401 * XXIIIYYI\n",
      "- 0.004037850114074401 * YYIIIXXI\n",
      "- 0.004037850114074401 * XXIIIXXI\n",
      "+ 0.10662783916760205 * ZIIIIIZI\n",
      "- 0.036822959213624426 * ZIIIYZYI\n",
      "- 0.036822959213624426 * ZIIIXZXI\n",
      "+ 0.1258531304632096 * IIIIZZII\n",
      "+ 0.14033538317998157 * IIIZIZII\n",
      "+ 0.007350491620167774 * IIYYYYII\n",
      "+ 0.007350491620167774 * IIXXYYII\n",
      "+ 0.007350491620167774 * IIYYXXII\n",
      "+ 0.007350491620167774 * IIXXXXII\n",
      "- 0.02408203599510684 * IYZYIZII\n",
      "- 0.02408203599510684 * IXZXIZII\n",
      "+ 0.02254126521344591 * YZZYYYII\n",
      "+ 0.02254126521344591 * XZZXYYII\n",
      "+ 0.02254126521344591 * YZZYXXII\n",
      "+ 0.02254126521344591 * XZZXXXII\n",
      "+ 0.0905606481922108 * IIZIIZII\n",
      "- 0.004037850114074402 * IYYIYYII\n",
      "- 0.004037850114074402 * IXXIYYII\n",
      "- 0.004037850114074402 * IYYIXXII\n",
      "- 0.004037850114074402 * IXXIXXII\n",
      "- 0.015383064971252552 * YZYIIZII\n",
      "- 0.015383064971252552 * XZXIIZII\n",
      "+ 0.10841901057517317 * IZIIIZII\n",
      "+ 0.014102106430059876 * YYIIYYII\n",
      "+ 0.014102106430059876 * XXIIYYII\n",
      "+ 0.014102106430059876 * YYIIXXII\n",
      "+ 0.014102106430059876 * XXIIXXII\n",
      "+ 0.13995523689326944 * ZIIIIZII\n",
      "+ 0.21658719329788378 * IIIZZIII\n",
      "- 0.05737639300980055 * IYZYZIII\n",
      "- 0.05737639300980055 * IXZXZIII\n",
      "+ 0.10662783916760205 * IIZIZIII\n",
      "- 0.036822959213624426 * YZYIZIII\n",
      "- 0.036822959213624426 * XZXIZIII\n",
      "+ 0.13995523689326944 * IZIIZIII\n",
      "+ 0.2348916555006534 * ZIIIZIII\n",
      "+ 0.09564481599814345 * IIZZIIII\n",
      "- 0.01836480653461932 * YZYZIIII\n",
      "- 0.01836480653461932 * XZXZIIII\n",
      "+ 0.11185014141628051 * IZIZIIII\n",
      "+ 0.1725765237730976 * ZIIZIIII\n",
      "- 0.014596538123107706 * IYIYIIII\n",
      "- 0.014596538123107706 * IXIXIIII\n",
      "+ 0.0161672324603783 * YXXYIIII\n",
      "+ 0.01229038975700995 * YYYYIIII\n",
      "- 0.0038768427033683134 * XXYYIIII\n",
      "- 0.0038768427033683134 * YYXXIIII\n",
      "+ 0.01229038975700995 * XXXXIIII\n",
      "+ 0.0161672324603783 * XYYXIIII\n",
      "- 0.03483512779635464 * ZYZYIIII\n",
      "- 0.03483512779635464 * ZXZXIIII\n",
      "+ 0.07624645876879245 * IZZIIIII\n",
      "+ 0.09682819951786377 * ZIZIIIII\n",
      "- 0.019420915085326975 * YIYIIIII\n",
      "- 0.019420915085326975 * XIXIIIII\n",
      "+ 0.1258531304632096 * ZZIIIIII\n"
     ]
    }
   ],
   "source": [
    "#Jordan-Wigner mapping\n",
    "qubit_converter = QubitConverter(mapper=JordanWignerMapper())\n",
    "qubit_op = qubit_converter.convert(second_q_op[0])\n",
    "print(qubit_op)"
   ]
  },
  {
   "cell_type": "markdown",
   "id": "weighted-charity",
   "metadata": {},
   "source": [
    "V dalším definujeme úlohu a jako backend použijeme StatevectorSimulator."
   ]
  },
  {
   "cell_type": "code",
   "execution_count": 6,
   "id": "moral-arrangement",
   "metadata": {},
   "outputs": [],
   "source": [
    "#define quantum instance (using statevector simulator)\n",
    "quantum_instance = QuantumInstance(backend=Aer.get_backend(\"aer_simulator_statevector\"))\n",
    "solver = VQE(quantum_instance=quantum_instance)\n",
    "gsc = GroundStateEigensolver(qubit_converter, solver)"
   ]
  },
  {
   "cell_type": "markdown",
   "id": "connected-alias",
   "metadata": {},
   "source": [
    "Úlohu budeme počítat v 10 ekvidistantně rozmístěných bodech pro vzdálenosti jader v rozmezí 0,73 až 0,74 Ångströmů. Ke vzorkování se použije třída BOPESSampler sloužící k vyhodnocení PES při Born-Oppenheimrově aproximaci. Bootstrapping volíme jako True."
   ]
  },
  {
   "cell_type": "code",
   "execution_count": 7,
   "id": "blessed-alberta",
   "metadata": {},
   "outputs": [],
   "source": [
    "# Specify degree of freedom (points of interest)\n",
    "points = np.linspace(0.60, 1.3, 10) #equidistantly distributes 10 points in given range\n",
    "results_full = {}  # full dictionary of results for each condition\n",
    "results = {}  # dictionary of (point,energy) results for each condition\n",
    "\n",
    "# define instance to sampler\n",
    "bs = BOPESSampler(gsc, bootstrap=True, num_bootstrap=None, extrapolator=None)\n",
    "\n",
    "# execute\n",
    "res = bs.sample(es_problem, points)\n",
    "results_full[f\"\"] = res.raw_results\n",
    "results[f\"points_\"] = res.points\n",
    "results[f\"energies_\"] = res.energies"
   ]
  },
  {
   "cell_type": "markdown",
   "id": "informal-colony",
   "metadata": {},
   "source": [
    "Pro srovnání použijeme klasické řešení:"
   ]
  },
  {
   "cell_type": "code",
   "execution_count": 8,
   "id": "seasonal-incentive",
   "metadata": {},
   "outputs": [],
   "source": [
    "#compare to classical eigensolver\n",
    "# define numpy solver\n",
    "solver_numpy = NumPyMinimumEigensolver()\n",
    "me_gsc_numpy = GroundStateEigensolver(qubit_converter, solver_numpy)\n",
    "bs_classical = BOPESSampler(me_gsc_numpy, bootstrap=False, num_bootstrap=None, extrapolator=None)\n",
    "\n",
    "# execute\n",
    "res_np = bs_classical.sample(es_problem, points)\n",
    "results_full[\"np\"] = res_np.raw_results\n",
    "results[\"points_np\"] = res_np.points\n",
    "results[\"energies_np\"] = res_np.energies"
   ]
  },
  {
   "cell_type": "markdown",
   "id": "isolated-curtis",
   "metadata": {},
   "source": [
    "Energie v jednotlivých bodech z VQE při JW mapování:"
   ]
  },
  {
   "cell_type": "code",
   "execution_count": 9,
   "id": "turned-benjamin",
   "metadata": {},
   "outputs": [
    {
     "name": "stdout",
     "output_type": "stream",
     "text": [
      "[-1.1100294870200917, -1.1245786157324777, -1.1263705499036158, -1.120476045141796, -1.1099876828919322, -1.0968278921973647, -1.0822020044750982, -1.066869269791913, -1.0513092875915717, -1.0358248105748369]\n"
     ]
    }
   ],
   "source": [
    "print(results[f\"energies_\"])"
   ]
  },
  {
   "cell_type": "markdown",
   "id": "judicial-length",
   "metadata": {},
   "source": [
    "Energie v jednotlivých bodech klasicky:"
   ]
  },
  {
   "cell_type": "code",
   "execution_count": 10,
   "id": "proper-present",
   "metadata": {},
   "outputs": [
    {
     "name": "stdout",
     "output_type": "stream",
     "text": [
      "[-1.1319534598304384, -1.148135155398231, -1.1516421784929665, -1.1476167452254822, -1.139219873377178, -1.1284342908875682, -1.1165153372165468, -1.1042619909244302, -1.092184270111894, -1.0806069027817178]\n"
     ]
    }
   ],
   "source": [
    "print(results[\"energies_np\"])"
   ]
  },
  {
   "cell_type": "markdown",
   "id": "unauthorized-experiment",
   "metadata": {},
   "source": [
    "Výsledky vykreslíme v grafu:"
   ]
  },
  {
   "cell_type": "code",
   "execution_count": 11,
   "id": "welcome-consultation",
   "metadata": {},
   "outputs": [
    {
     "data": {
      "image/png": "[encoded data removed]",
      "text/plain": [
       "<Figure size 1080x576 with 1 Axes>"
      ]
     },
     "metadata": {
      "needs_background": "light"
     },
     "output_type": "display_data"
    }
   ],
   "source": [
    "fig = plt.figure(figsize=(15, 8))\n",
    "\n",
    "plt.plot(results[f\"points_\"], results[f\"energies_\"], label=f\"VQE-JW\")\n",
    "plt.plot(results[\"points_np\"], results[\"energies_np\"], label=\"classical\")\n",
    "plt.legend()\n",
    "plt.title(\"Dissociation profile\")\n",
    "plt.xlabel(\"Interatomic distance\")\n",
    "plt.ylabel(\"Energy\")\n",
    "\n",
    "#disable scientific notation\n",
    "plt.ticklabel_format(useOffset=False, style='plain')\n"
   ]
  },
  {
   "cell_type": "markdown",
   "id": "limited-shakespeare",
   "metadata": {},
   "source": [
    "Vidíme, že výsledky jsou ve velmi dobré shodě. Podíváme se na nutný počet vyhodnocení:"
   ]
  },
  {
   "cell_type": "code",
   "execution_count": 12,
   "id": "imposed-sleeve",
   "metadata": {},
   "outputs": [
    {
     "name": "stdout",
     "output_type": "stream",
     "text": [
      "Total evaluations: \n",
      "1288\n"
     ]
    }
   ],
   "source": [
    "for condition, result_full in results_full.items():\n",
    "    if condition != \"np\":\n",
    "        print(\"Total evaluations: \")\n",
    "        sum = 0\n",
    "        for key in result_full:\n",
    "            sum += result_full[key].raw_result.cost_function_evals  \n",
    "    else:\n",
    "        continue\n",
    "    print(sum)"
   ]
  },
  {
   "cell_type": "markdown",
   "id": "short-dividend",
   "metadata": {},
   "source": [
    "Ač výsledky jsou dosti přesné, tak nutný počet vyhodnocení je, jak uvidíme dále, vyšší než u ostatních typů mapování."
   ]
  },
  {
   "cell_type": "markdown",
   "id": "rational-lafayette",
   "metadata": {},
   "source": [
    "## Paritní mapování bez redukce\n",
    "Dále se podíváme, jak si povede paritní mapování, nebudeme-li redukovat počet qubitů. Qubitový Hamiltonián zde má tvar:"
   ]
  },
  {
   "cell_type": "code",
   "execution_count": 13,
   "id": "purple-second",
   "metadata": {},
   "outputs": [
    {
     "name": "stdout",
     "output_type": "stream",
     "text": [
      "2.0489637661958295 * IIIIIIII\n",
      "- 0.23987258067264672 * IIIIIIIZ\n",
      "- 0.08289254060917936 * IIIIIZXX\n",
      "- 0.08289254060917936 * IIIIIIYY\n",
      "- 0.4301236155125805 * IIIIIIZZ\n",
      "- 0.027996362957175686 * IIIIZXXZ\n",
      "- 0.027996362957175686 * IIIIIYYI\n",
      "- 0.5883567403032339 * IIIIIZZI\n",
      "- 1.570185917182014 * IIIIZZII\n",
      "- 0.23987258067264658 * IIIZZIII\n",
      "- 0.08289254060917936 * IZXXZIII\n",
      "- 0.08289254060917936 * IIYYIIII\n",
      "- 0.4301236155125805 * IIZZIIII\n",
      "- 0.02799636295717571 * ZXXZIIII\n",
      "- 0.02799636295717571 * IYYIIIII\n",
      "- 0.588356740303234 * IZZIIIII\n",
      "- 1.570185917182014 * ZZIIIIII\n",
      "+ 0.09564481599814345 * IIIIIIZI\n",
      "+ 0.01836480653461932 * IIIIZXXI\n",
      "+ 0.01836480653461932 * IIIIIYYZ\n",
      "+ 0.11185014141628051 * IIIIIZZZ\n",
      "+ 0.1725765237730976 * IIIIZZIZ\n",
      "- 0.014596538123107706 * IIIIIZYY\n",
      "- 0.014596538123107706 * IIIIIIXX\n",
      "+ 0.0161672324603783 * IIIIZYIY\n",
      "+ 0.01229038975700995 * IIIIZXIX\n",
      "+ 0.0038768427033683134 * IIIIIXZX\n",
      "+ 0.0038768427033683134 * IIIIZXZX\n",
      "+ 0.01229038975700995 * IIIIIXIX\n",
      "+ 0.0161672324603783 * IIIIIYIY\n",
      "+ 0.03483512779635464 * IIIIZIXX\n",
      "+ 0.03483512779635464 * IIIIZZYY\n",
      "+ 0.2154396688846053 * IIIZZIIZ\n",
      "+ 0.053827973633803164 * IIIZZZXX\n",
      "+ 0.053827973633803164 * IIIZZIYY\n",
      "+ 0.009503399421001741 * IIZXZIZX\n",
      "- 0.009503399421001741 * IIIXIIZX\n",
      "- 0.009503399421001741 * IIZXZIIX\n",
      "+ 0.009503399421001741 * IIIXIIIX\n",
      "+ 0.015216350157807255 * IIZXIXXX\n",
      "- 0.015216350157807255 * IIIXZXXX\n",
      "+ 0.015216350157807255 * IIZXZYXY\n",
      "- 0.015216350157807255 * IIIXIYXY\n",
      "+ 0.053827973633803164 * IZXXZIIZ\n",
      "+ 0.053827973633803164 * IIYYIIIZ\n",
      "+ 0.028485241763701083 * IZXXZZXX\n",
      "+ 0.028485241763701083 * IIYYIZXX\n",
      "+ 0.028485241763701083 * IZXXZIYY\n",
      "+ 0.028485241763701083 * IIYYIIYY\n",
      "+ 0.015216350157807253 * ZXXXZIZX\n",
      "+ 0.015216350157807253 * IYXYIIZX\n",
      "- 0.015216350157807253 * ZXXXZIIX\n",
      "- 0.015216350157807253 * IYXYIIIX\n",
      "+ 0.0440106695247861 * ZXXXIXXX\n",
      "+ 0.0440106695247861 * IYXYZXXX\n",
      "+ 0.0440106695247861 * ZXXXZYXY\n",
      "+ 0.0440106695247861 * IYXYIYXY\n",
      "+ 0.10514821541914522 * IIZZIIIZ\n",
      "+ 0.005830419598360427 * IIZZIZXX\n",
      "+ 0.005830419598360427 * IIZZIIYY\n",
      "- 0.008766118524747294 * IZXZIIZX\n",
      "+ 0.008766118524747294 * IIXIIIZX\n",
      "+ 0.008766118524747294 * IZXZIIIX\n",
      "- 0.008766118524747294 * IIXIIIIX\n",
      "- 0.00493989813684215 * IZXZZXXX\n",
      "+ 0.00493989813684215 * IIXIZXXX\n",
      "- 0.00493989813684215 * IZXZIYXY\n",
      "+ 0.00493989813684215 * IIXIIYXY\n",
      "+ 0.033581156692426485 * ZXXZIIIZ\n",
      "+ 0.033581156692426485 * IYYIIIIZ\n",
      "+ 0.011227334323536144 * ZXXZIZXX\n",
      "+ 0.011227334323536144 * IYYIIZXX\n",
      "+ 0.011227334323536144 * ZXXZIIYY\n",
      "+ 0.011227334323536144 * IYYIIIYY\n",
      "+ 0.14033538317998157 * IZZIIIIZ\n",
      "+ 0.024082035995106842 * IZZIIZXX\n",
      "+ 0.024082035995106842 * IZZIIIYY\n",
      "+ 0.007350491620167774 * ZXZIIIZX\n",
      "- 0.007350491620167774 * IXIIIIZX\n",
      "- 0.007350491620167774 * ZXZIIIIX\n",
      "+ 0.007350491620167774 * IXIIIIIX\n",
      "+ 0.02254126521344591 * ZXZIZXXX\n",
      "- 0.02254126521344591 * IXIIZXXX\n",
      "+ 0.02254126521344591 * ZXZIIYXY\n",
      "- 0.02254126521344591 * IXIIIYXY\n",
      "+ 0.21658719329788378 * ZZIIIIIZ\n",
      "+ 0.05737639300980054 * ZZIIIZXX\n",
      "+ 0.05737639300980054 * ZZIIIIYY\n",
      "+ 0.07624645876879245 * IIIIIZIZ\n",
      "+ 0.09682819951786377 * IIIIZZZZ\n",
      "- 0.019420915085326975 * IIIIZYYZ\n",
      "- 0.019420915085326975 * IIIIIXXI\n",
      "+ 0.10514821541914522 * IIIZZIZZ\n",
      "+ 0.033581156692426485 * IIIZIXXZ\n",
      "+ 0.033581156692426485 * IIIZZYYI\n",
      "- 0.008766118524747296 * IIZXZZXZ\n",
      "+ 0.008766118524747296 * IIIXIZXZ\n",
      "+ 0.008766118524747296 * IIZXZIXI\n",
      "- 0.008766118524747296 * IIIXIIXI\n",
      "+ 0.005830419598360427 * IZXXZIZZ\n",
      "+ 0.005830419598360427 * IIYYIIZZ\n",
      "+ 0.011227334323536144 * IZXXIXXZ\n",
      "+ 0.011227334323536144 * IIYYZXXZ\n",
      "+ 0.011227334323536144 * IZXXZYYI\n",
      "+ 0.011227334323536144 * IIYYIYYI\n",
      "- 0.0049398981368421494 * ZXXXZZXZ\n",
      "- 0.0049398981368421494 * IYXYIZXZ\n",
      "+ 0.0049398981368421494 * ZXXXZIXI\n",
      "+ 0.0049398981368421494 * IYXYIIXI\n",
      "+ 0.09293603400972804 * IIZZIIZZ\n",
      "+ 0.008315386987069762 * IIZZZXXZ\n",
      "+ 0.008315386987069762 * IIZZIYYI\n",
      "+ 0.014314189423418291 * IZXZIZXZ\n",
      "- 0.014314189423418291 * IIXIIZXZ\n",
      "- 0.014314189423418291 * IZXZIIXI\n",
      "+ 0.014314189423418291 * IIXIIIXI\n",
      "+ 0.008315386987069762 * ZXXZIIZZ\n",
      "+ 0.008315386987069762 * IYYIIIZZ\n",
      "+ 0.009799639649737926 * ZXXZZXXZ\n",
      "+ 0.009799639649737926 * IYYIZXXZ\n",
      "+ 0.009799639649737926 * ZXXZIYYI\n",
      "+ 0.009799639649737926 * IYYIIYYI\n",
      "+ 0.0905606481922108 * IZZIIIZZ\n",
      "+ 0.015383064971252554 * IZZIZXXZ\n",
      "+ 0.015383064971252554 * IZZIIYYI\n",
      "- 0.004037850114074401 * ZXZIIZXZ\n",
      "+ 0.004037850114074401 * IXIIIZXZ\n",
      "+ 0.004037850114074401 * ZXZIIIXI\n",
      "- 0.004037850114074401 * IXIIIIXI\n",
      "+ 0.10662783916760205 * ZZIIIIZZ\n",
      "+ 0.036822959213624426 * ZZIIZXXZ\n",
      "+ 0.036822959213624426 * ZZIIIYYI\n",
      "+ 0.1258531304632096 * IIIIZIZI\n",
      "+ 0.14033538317998157 * IIIZZZZI\n",
      "+ 0.007350491620167774 * IIZXIXZI\n",
      "- 0.007350491620167774 * IIIXZXZI\n",
      "- 0.007350491620167774 * IIZXZXII\n",
      "+ 0.007350491620167774 * IIIXIXII\n",
      "+ 0.02408203599510684 * IZXXZZZI\n",
      "+ 0.02408203599510684 * IIYYIZZI\n",
      "+ 0.02254126521344591 * ZXXXIXZI\n",
      "+ 0.02254126521344591 * IYXYZXZI\n",
      "- 0.02254126521344591 * ZXXXZXII\n",
      "- 0.02254126521344591 * IYXYIXII\n",
      "+ 0.0905606481922108 * IIZZIZZI\n",
      "- 0.004037850114074402 * IZXZZXZI\n",
      "+ 0.004037850114074402 * IIXIZXZI\n",
      "+ 0.004037850114074402 * IZXZIXII\n",
      "- 0.004037850114074402 * IIXIIXII\n",
      "+ 0.015383064971252552 * ZXXZIZZI\n",
      "+ 0.015383064971252552 * IYYIIZZI\n",
      "+ 0.10841901057517317 * IZZIIZZI\n",
      "+ 0.014102106430059876 * ZXZIZXZI\n",
      "- 0.014102106430059876 * IXIIZXZI\n",
      "- 0.014102106430059876 * ZXZIIXII\n",
      "+ 0.014102106430059876 * IXIIIXII\n",
      "+ 0.13995523689326944 * ZZIIIZZI\n",
      "+ 0.21658719329788378 * IIIZIZII\n",
      "+ 0.05737639300980055 * IZXXIZII\n",
      "+ 0.05737639300980055 * IIYYZZII\n",
      "+ 0.10662783916760205 * IIZZZZII\n",
      "+ 0.036822959213624426 * ZXXZZZII\n",
      "+ 0.036822959213624426 * IYYIZZII\n",
      "+ 0.13995523689326944 * IZZIZZII\n",
      "+ 0.2348916555006534 * ZZIIZZII\n",
      "+ 0.09564481599814345 * IIZIZIII\n",
      "+ 0.01836480653461932 * ZXXIZIII\n",
      "+ 0.01836480653461932 * IYYZZIII\n",
      "+ 0.11185014141628051 * IZZZZIII\n",
      "+ 0.1725765237730976 * ZZIZZIII\n",
      "- 0.014596538123107706 * IZYYZIII\n",
      "- 0.014596538123107706 * IIXXIIII\n",
      "+ 0.0161672324603783 * ZYIYZIII\n",
      "+ 0.01229038975700995 * ZXIXZIII\n",
      "+ 0.0038768427033683134 * IXZXZIII\n",
      "+ 0.0038768427033683134 * ZXZXIIII\n",
      "+ 0.01229038975700995 * IXIXIIII\n",
      "+ 0.0161672324603783 * IYIYIIII\n",
      "+ 0.03483512779635464 * ZIXXZIII\n",
      "+ 0.03483512779635464 * ZZYYIIII\n",
      "+ 0.07624645876879245 * IZIZIIII\n",
      "+ 0.09682819951786377 * ZZZZIIII\n",
      "- 0.019420915085326975 * ZYYZIIII\n",
      "- 0.019420915085326975 * IXXIIIII\n",
      "+ 0.1258531304632096 * ZIZIIIII\n"
     ]
    }
   ],
   "source": [
    "#Parity mapping\n",
    "qubit_converter2 = QubitConverter(mapper=ParityMapper())\n",
    "qubit_op2 = qubit_converter2.convert(second_q_op[0])\n",
    "print(qubit_op2)"
   ]
  },
  {
   "cell_type": "code",
   "execution_count": 14,
   "id": "rural-undergraduate",
   "metadata": {},
   "outputs": [],
   "source": [
    "gsc2 = GroundStateEigensolver(qubit_converter2, solver)"
   ]
  },
  {
   "cell_type": "markdown",
   "id": "chinese-demand",
   "metadata": {},
   "source": [
    "Třída pro vzorkování bude užívána stále stejná."
   ]
  },
  {
   "cell_type": "code",
   "execution_count": 15,
   "id": "thrown-fitness",
   "metadata": {},
   "outputs": [],
   "source": [
    "results_full2 = {}  # full dictionary of results for each condition\n",
    "results2 = {}  # dictionary of (point,energy) results for each condition\n",
    "\n",
    "# define instance to sampler\n",
    "bs2 = BOPESSampler(gsc2, bootstrap=True, num_bootstrap=None, extrapolator=None)\n",
    "\n",
    "# execute\n",
    "res2 = bs2.sample(es_problem, points)\n",
    "results_full2[f\"\"] = res2.raw_results\n",
    "results2[f\"points_\"] = res2.points\n",
    "results2[f\"energies_\"] = res2.energies"
   ]
  },
  {
   "cell_type": "markdown",
   "id": "electrical-buying",
   "metadata": {},
   "source": [
    "Energie v jednotlivých bodech z VQE při paritním mapování bez redukce:"
   ]
  },
  {
   "cell_type": "code",
   "execution_count": 16,
   "id": "approximate-senior",
   "metadata": {},
   "outputs": [
    {
     "name": "stdout",
     "output_type": "stream",
     "text": [
      "[-0.6406543163590303, -0.706194344669461, -0.7568288062055262, -0.7972151751964294, -0.8301269689933787, -0.857309134415075, -0.8799268691188568, -0.8988176125223899, -0.9146120682192336, -0.927809082610691]\n"
     ]
    }
   ],
   "source": [
    "print(results2[f\"energies_\"])"
   ]
  },
  {
   "cell_type": "markdown",
   "id": "linear-mambo",
   "metadata": {},
   "source": [
    "Výsledky vykreslíme v grafu:"
   ]
  },
  {
   "cell_type": "code",
   "execution_count": 17,
   "id": "israeli-grade",
   "metadata": {},
   "outputs": [
    {
     "data": {
      "image/png": "[encoded data removed]",
      "text/plain": [
       "<Figure size 1080x576 with 1 Axes>"
      ]
     },
     "metadata": {
      "needs_background": "light"
     },
     "output_type": "display_data"
    }
   ],
   "source": [
    "fig2 = plt.figure(figsize=(15, 8))\n",
    "\n",
    "plt.plot(results2[f\"points_\"], results2[f\"energies_\"], label=f\"VQE-Par(nr)\")\n",
    "plt.plot(results[\"points_np\"], results[\"energies_np\"], label=\"classical\")\n",
    "plt.legend()\n",
    "plt.title(\"Dissociation profile\")\n",
    "plt.xlabel(\"Interatomic distance\")\n",
    "plt.ylabel(\"Energy\")\n",
    "\n",
    "#disable scientific notation\n",
    "plt.ticklabel_format(useOffset=False, style='plain')"
   ]
  },
  {
   "cell_type": "markdown",
   "id": "mathematical-personality",
   "metadata": {},
   "source": [
    "Vidíme, že především v minimu se výsledky přeci jen liší více než při JW mapování. Nutný počet vyhodnocení je však o něco nižší:"
   ]
  },
  {
   "cell_type": "code",
   "execution_count": 18,
   "id": "mature-workstation",
   "metadata": {},
   "outputs": [
    {
     "name": "stdout",
     "output_type": "stream",
     "text": [
      "Total evaluations: \n",
      "2507\n"
     ]
    }
   ],
   "source": [
    "for condition, result_full2 in results_full2.items():\n",
    "    if condition != \"np\":\n",
    "        print(\"Total evaluations: \")\n",
    "        sum2 = 0\n",
    "        for key in result_full2:\n",
    "            sum2 += result_full2[key].raw_result.cost_function_evals\n",
    "            \n",
    "    else:\n",
    "        continue\n",
    "    print(sum2)"
   ]
  },
  {
   "cell_type": "markdown",
   "id": "compressed-investigator",
   "metadata": {},
   "source": [
    "## Paritní mapování s redukcí počtu qubitů\n",
    "Dále se zaměříme na situaci, kdy využijeme známých symetrií, které nám při paritním mapování umožní zbavit se dvou qubitů. To by mělo mít za následek nejen snížení nutného počtu vyhodnocení, ale též větší přesnost. Qubitový operátor:"
   ]
  },
  {
   "cell_type": "code",
   "execution_count": 19,
   "id": "normal-villa",
   "metadata": {},
   "outputs": [
    {
     "name": "stdout",
     "output_type": "stream",
     "text": [
      "2.0489637661958287 * IIIIII\n",
      "- 0.23987258067264663 * IIIIIZ\n",
      "- 0.08289254060917933 * IIIZXX\n",
      "- 0.08289254060917933 * IIIIYY\n",
      "- 0.4301236155125804 * IIIIZZ\n",
      "+ 0.02799636295717553 * IIIXXZ\n",
      "- 0.027996362957175676 * IIIYYI\n",
      "- 0.5883567403032337 * IIIZZI\n",
      "+ 1.5701859171820054 * IIIZII\n",
      "+ 0.23987258067264522 * IIZIII\n",
      "+ 0.08289254060917892 * ZXXIII\n",
      "- 0.08289254060917933 * IYYIII\n",
      "- 0.4301236155125804 * IZZIII\n",
      "- 0.027996362957175842 * XXZIII\n",
      "- 0.0279963629571757 * YYIIII\n",
      "- 0.5883567403032338 * ZZIIII\n",
      "- 1.5701859171820214 * ZIIIII\n",
      "- 0.030208314465065465 * IIIIZI\n",
      "- 0.03778572161994619 * IIIXXI\n",
      "+ 0.03778572161994618 * IIIYYZ\n",
      "+ 0.01502194189841724 * IIIZZZ\n",
      "- 0.09633006500430422 * IIIZIZ\n",
      "- 0.04943166591946216 * IIIZYY\n",
      "- 0.04943166591946216 * IIIIXX\n",
      "- 0.21543966888460414 * IIZIIZ\n",
      "- 0.05382797363380286 * IIZZXX\n",
      "- 0.05382797363380286 * IIZIYY\n",
      "- 0.00950339942100169 * IZXIZX\n",
      "- 0.009503399421001738 * IIXIZX\n",
      "+ 0.00950339942100169 * IZXIIX\n",
      "+ 0.009503399421001738 * IIXIIX\n",
      "+ 0.015216350157807248 * IZXXXX\n",
      "+ 0.015216350157807172 * IIXXXX\n",
      "- 0.015216350157807172 * IZXYXY\n",
      "- 0.015216350157807248 * IIXYXY\n",
      "- 0.05382797363380286 * ZXXIIZ\n",
      "+ 0.05382797363380314 * IYYIIZ\n",
      "- 0.02848524176370093 * ZXXZXX\n",
      "+ 0.028485241763701073 * IYYZXX\n",
      "- 0.02848524176370093 * ZXXIYY\n",
      "+ 0.028485241763701073 * IYYIYY\n",
      "- 0.015216350157807248 * XXXIZX\n",
      "+ 0.015216350157807248 * YXYIZX\n",
      "+ 0.015216350157807248 * XXXIIX\n",
      "- 0.015216350157807248 * YXYIIX\n",
      "+ 0.044010669524786314 * XXXXXX\n",
      "- 0.04401066952478586 * YXYXXX\n",
      "- 0.04401066952478609 * XXXYXY\n",
      "+ 0.044010669524786085 * YXYYXY\n",
      "+ 0.10514821541914518 * IZZIIZ\n",
      "+ 0.0058304195983604245 * IZZZXX\n",
      "+ 0.0058304195983604245 * IZZIYY\n",
      "- 0.00876611852474729 * ZXZIZX\n",
      "+ 0.00876611852474729 * IXIIZX\n",
      "+ 0.00876611852474729 * ZXZIIX\n",
      "- 0.00876611852474729 * IXIIIX\n",
      "+ 0.0049398981368421226 * ZXZXXX\n",
      "- 0.0049398981368421226 * IXIXXX\n",
      "- 0.004939898136842149 * ZXZYXY\n",
      "+ 0.004939898136842149 * IXIYXY\n",
      "+ 0.033581156692426645 * XXZIIZ\n",
      "+ 0.03358115669242647 * YYIIIZ\n",
      "+ 0.011227334323536198 * XXZZXX\n",
      "+ 0.011227334323536139 * YYIZXX\n",
      "+ 0.011227334323536196 * XXZIYY\n",
      "+ 0.011227334323536143 * YYIIYY\n",
      "+ 0.1403353831799815 * ZZIIIZ\n",
      "+ 0.024082035995106832 * ZZIZXX\n",
      "+ 0.024082035995106832 * ZZIIYY\n",
      "+ 0.00735049162016781 * XZIIZX\n",
      "- 0.007350491620167772 * XIIIZX\n",
      "- 0.00735049162016781 * XZIIIX\n",
      "+ 0.007350491620167772 * XIIIIX\n",
      "- 0.022541265213445905 * XZIXXX\n",
      "+ 0.022541265213445787 * XIIXXX\n",
      "+ 0.022541265213446016 * XZIYXY\n",
      "- 0.022541265213445905 * XIIYXY\n",
      "+ 0.21658719329788484 * ZIIIIZ\n",
      "+ 0.05737639300980081 * ZIIZXX\n",
      "+ 0.05737639300980081 * ZIIIYY\n",
      "- 0.10514821541914465 * IIZIZZ\n",
      "+ 0.03358115669242647 * IIZXXZ\n",
      "- 0.0335811566924263 * IIZYYI\n",
      "+ 0.008766118524747247 * IZXZXZ\n",
      "+ 0.008766118524747292 * IIXZXZ\n",
      "- 0.008766118524747247 * IZXIXI\n",
      "- 0.008766118524747292 * IIXIXI\n",
      "- 0.005830419598360395 * ZXXIZZ\n",
      "+ 0.0058304195983604245 * IYYIZZ\n",
      "+ 0.011227334323536139 * ZXXXXZ\n",
      "- 0.011227334323536084 * IYYXXZ\n",
      "- 0.011227334323536084 * ZXXYYI\n",
      "+ 0.011227334323536143 * IYYYYI\n",
      "+ 0.004939898136842148 * XXXZXZ\n",
      "- 0.004939898136842148 * YXYZXZ\n",
      "- 0.004939898136842148 * XXXIXI\n",
      "+ 0.004939898136842148 * YXYIXI\n",
      "+ 0.092936034009728 * IZZIZZ\n",
      "- 0.008315386987069715 * IZZXXZ\n",
      "+ 0.008315386987069759 * IZZYYI\n",
      "+ 0.014314189423418286 * ZXZZXZ\n",
      "- 0.014314189423418286 * IXIZXZ\n",
      "- 0.014314189423418286 * ZXZIXI\n",
      "+ 0.014314189423418286 * IXIIXI\n",
      "+ 0.008315386987069802 * XXZIZZ\n",
      "+ 0.008315386987069759 * YYIIZZ\n",
      "- 0.009799639649737922 * XXZXXZ\n",
      "- 0.009799639649737872 * YYIXXZ\n",
      "+ 0.00979963964973797 * XXZYYI\n",
      "+ 0.009799639649737922 * YYIYYI\n",
      "+ 0.09056064819221077 * ZZIIZZ\n",
      "- 0.015383064971252473 * ZZIXXZ\n",
      "+ 0.01538306497125255 * ZZIYYI\n",
      "- 0.00403785011407442 * XZIZXZ\n",
      "+ 0.004037850114074399 * XIIZXZ\n",
      "+ 0.00403785011407442 * XZIIXI\n",
      "- 0.004037850114074399 * XIIIXI\n",
      "+ 0.10662783916760257 * ZIIIZZ\n",
      "- 0.03682295921362441 * ZIIXXZ\n",
      "+ 0.03682295921362459 * ZIIYYI\n",
      "- 0.1403353831799808 * IIZZZI\n",
      "+ 0.007350491620167772 * IZXXZI\n",
      "+ 0.007350491620167734 * IIXXZI\n",
      "+ 0.007350491620167734 * IZXXII\n",
      "+ 0.007350491620167772 * IIXXII\n",
      "- 0.024082035995106707 * ZXXZZI\n",
      "+ 0.024082035995106832 * IYYZZI\n",
      "+ 0.02254126521344602 * XXXXZI\n",
      "- 0.022541265213445787 * YXYXZI\n",
      "+ 0.022541265213445905 * XXXXII\n",
      "- 0.022541265213445905 * YXYXII\n",
      "+ 0.09056064819221077 * IZZZZI\n",
      "+ 0.004037850114074379 * ZXZXZI\n",
      "- 0.004037850114074379 * IXIXZI\n",
      "+ 0.0040378501140744 * ZXZXII\n",
      "- 0.0040378501140744 * IXIXII\n",
      "+ 0.015383064971252627 * XXZZZI\n",
      "+ 0.015383064971252547 * YYIZZI\n",
      "+ 0.10841901057517313 * ZZIZZI\n",
      "- 0.014102106430059871 * XZIXZI\n",
      "+ 0.014102106430059798 * XIIXZI\n",
      "- 0.014102106430059944 * XZIXII\n",
      "+ 0.014102106430059871 * XIIXII\n",
      "+ 0.1399552368932701 * ZIIZZI\n",
      "+ 0.21658719329788373 * IIZZII\n",
      "+ 0.057376393009800526 * ZXXZII\n",
      "- 0.05737639300980024 * IYYZII\n",
      "- 0.10662783916760146 * IZZZII\n",
      "- 0.03682295921362441 * XXZZII\n",
      "- 0.03682295921362422 * YYIZII\n",
      "- 0.13995523689326866 * ZZIZII\n",
      "- 0.23489165550065333 * ZIIZII\n",
      "+ 0.03020831446506727 * IZIIII\n",
      "- 0.03778572161994629 * XXIIII\n",
      "- 0.037785721619946276 * YYZIII\n",
      "- 0.015021941898415672 * ZZZIII\n",
      "- 0.0963300650043051 * ZIZIII\n",
      "+ 0.049431665919462436 * ZYYIII\n",
      "- 0.04943166591946235 * IXXIII\n"
     ]
    }
   ],
   "source": [
    "#Parity mapping with reduction\n",
    "qubit_converter3 = QubitConverter(mapper=ParityMapper(), two_qubit_reduction=True)\n",
    "qubit_op3 = qubit_converter3.convert(second_q_op[0], num_particles=es_problem.num_particles)\n",
    "print(qubit_op3)"
   ]
  },
  {
   "cell_type": "markdown",
   "id": "suitable-thomson",
   "metadata": {},
   "source": [
    "Tentokrát musíme z dimenzionálních důvodů též nově definovat i instanci problému."
   ]
  },
  {
   "cell_type": "code",
   "execution_count": 20,
   "id": "neural-value",
   "metadata": {},
   "outputs": [],
   "source": [
    "#define quantum instance (using statevector simulator)\n",
    "quantum_instance3 = QuantumInstance(backend=Aer.get_backend(\"aer_simulator_statevector\")) #has to be defined again\n",
    "solver3 = VQE(quantum_instance=quantum_instance3) #has to be defined again due to dimension defferences\n",
    "gsc3 = GroundStateEigensolver(qubit_converter3, solver3)"
   ]
  },
  {
   "cell_type": "code",
   "execution_count": 21,
   "id": "personal-north",
   "metadata": {},
   "outputs": [],
   "source": [
    "results_full3 = {}  # full dictionary of results for each condition\n",
    "results3 = {}  # dictionary of (point,energy) results for each condition\n",
    "\n",
    "# define instance to sampler\n",
    "bs3 = BOPESSampler(gsc3, bootstrap=True, num_bootstrap=None, extrapolator=None)\n",
    "\n",
    "# execute\n",
    "res3 = bs3.sample(es_problem, points)\n",
    "results_full3[f\"\"] = res3.raw_results\n",
    "results3[f\"points_\"] = res3.points\n",
    "results3[f\"energies_\"] = res3.energies"
   ]
  },
  {
   "cell_type": "markdown",
   "id": "acknowledged-shuttle",
   "metadata": {},
   "source": [
    "Energie v jednotlivých bodech z VQE při paritním mapování s redukcí:"
   ]
  },
  {
   "cell_type": "code",
   "execution_count": 22,
   "id": "through-albert",
   "metadata": {},
   "outputs": [
    {
     "name": "stdout",
     "output_type": "stream",
     "text": [
      "[-1.122760427346484, -1.138893355388852, -1.1424689009110216, -1.138599096782328, -1.1304150556197068, -1.1198720475333286, -1.1082011477630753, -1.0961818531165526, -1.084447795654781, -1.0731126986684938]\n"
     ]
    }
   ],
   "source": [
    "print(results3[f\"energies_\"])"
   ]
  },
  {
   "cell_type": "markdown",
   "id": "functional-diagram",
   "metadata": {},
   "source": [
    "Výsledky vykreslíme v grafu:"
   ]
  },
  {
   "cell_type": "code",
   "execution_count": 23,
   "id": "prime-retrieval",
   "metadata": {},
   "outputs": [
    {
     "data": {
      "image/png": "[encoded data removed]",
      "text/plain": [
       "<Figure size 1080x576 with 1 Axes>"
      ]
     },
     "metadata": {
      "needs_background": "light"
     },
     "output_type": "display_data"
    }
   ],
   "source": [
    "fig3 = plt.figure(figsize=(15, 8))\n",
    "\n",
    "plt.plot(results3[f\"points_\"], results3[f\"energies_\"], label=f\"VQE-Par(r)\")\n",
    "plt.plot(results[\"points_np\"], results[\"energies_np\"], label=\"classical\")\n",
    "plt.legend()\n",
    "plt.title(\"Dissociation profile\")\n",
    "plt.xlabel(\"Interatomic distance\")\n",
    "plt.ylabel(\"Energy\")\n",
    "\n",
    "#disable scientific notation\n",
    "plt.ticklabel_format(useOffset=False, style='plain')"
   ]
  },
  {
   "cell_type": "code",
   "execution_count": 24,
   "id": "loving-garbage",
   "metadata": {},
   "outputs": [
    {
     "name": "stdout",
     "output_type": "stream",
     "text": [
      "Total evaluations: \n",
      "2397\n"
     ]
    }
   ],
   "source": [
    "for condition, result_full3 in results_full3.items():\n",
    "    if condition != \"np\":\n",
    "        print(\"Total evaluations: \")\n",
    "        sum3 = 0\n",
    "        for key in result_full3:\n",
    "            sum3 += result_full3[key].raw_result.cost_function_evals\n",
    "            \n",
    "    else:\n",
    "        continue\n",
    "    print(sum3)"
   ]
  },
  {
   "cell_type": "markdown",
   "id": "sufficient-folks",
   "metadata": {},
   "source": [
    "Vidíme, že kromě takřka dokonalé přesnosti bylo též zapotřebí zdaleka nejnižšího počtu vyhodnocení. Tato metoda je tedy v případě této molekuly preferovaná."
   ]
  },
  {
   "cell_type": "markdown",
   "id": "framed-stewart",
   "metadata": {},
   "source": [
    "## Bravyi-Kitaevovo mapování\n",
    "Nakonec se podíváme, jak si povede BK mapování. Qubitový operátor zde:"
   ]
  },
  {
   "cell_type": "code",
   "execution_count": 25,
   "id": "centered-english",
   "metadata": {},
   "outputs": [
    {
     "name": "stdout",
     "output_type": "stream",
     "text": [
      "2.0489637661958295 * IIIIIIII\n",
      "- 0.23987258067264672 * IIIIIIIZ\n",
      "+ 0.08289254060917936 * IIIIIYYX\n",
      "- 0.08289254060917936 * IIIIIXYY\n",
      "- 0.4301236155125805 * IIIIIIZZ\n",
      "- 0.027996362957175686 * IIIIZIXZ\n",
      "+ 0.027996362957175686 * IIIIIZXI\n",
      "- 0.5883567403032339 * IIIIIZII\n",
      "- 1.570185917182014 * IIIIZZZI\n",
      "- 0.23987258067264658 * IIIZIIII\n",
      "+ 0.08289254060917936 * IYYXIIII\n",
      "- 0.08289254060917936 * IXYYIIII\n",
      "- 0.4301236155125805 * IIZZIIII\n",
      "- 0.02799636295717571 * ZIXZZIII\n",
      "+ 0.02799636295717571 * IZXIIIII\n",
      "- 0.588356740303234 * IZIIIIII\n",
      "- 1.570185917182014 * ZZZIZIII\n",
      "+ 0.09564481599814345 * IIIIIIZI\n",
      "+ 0.01836480653461932 * IIIIZIXI\n",
      "- 0.01836480653461932 * IIIIIZXZ\n",
      "+ 0.11185014141628051 * IIIIIZIZ\n",
      "+ 0.1725765237730976 * IIIIZZZZ\n",
      "- 0.014596538123107706 * IIIIIYXY\n",
      "- 0.014596538123107706 * IIIIIXXX\n",
      "+ 0.0161672324603783 * IIIIZYZY\n",
      "+ 0.01229038975700995 * IIIIZXIX\n",
      "+ 0.0038768427033683134 * IIIIIXZX\n",
      "+ 0.0038768427033683134 * IIIIZXZX\n",
      "+ 0.01229038975700995 * IIIIIXIX\n",
      "+ 0.0161672324603783 * IIIIIYZY\n",
      "+ 0.03483512779635464 * IIIIZXXX\n",
      "+ 0.03483512779635464 * IIIIZYXY\n",
      "+ 0.2154396688846053 * IIIZIIIZ\n",
      "- 0.053827973633803164 * IIIZIYYX\n",
      "+ 0.053827973633803164 * IIIZIXYY\n",
      "+ 0.009503399421001741 * IIZXIIZX\n",
      "- 0.009503399421001741 * IIIXIIZX\n",
      "- 0.009503399421001741 * IIZXIIIX\n",
      "+ 0.009503399421001741 * IIIXIIIX\n",
      "+ 0.015216350157807255 * IIZXZIXX\n",
      "- 0.015216350157807255 * IIIXZIXX\n",
      "+ 0.015216350157807255 * IIZXIZYY\n",
      "- 0.015216350157807255 * IIIXIZYY\n",
      "- 0.053827973633803164 * IYYXIIIZ\n",
      "+ 0.053827973633803164 * IXYYIIIZ\n",
      "+ 0.028485241763701083 * IYYXIYYX\n",
      "- 0.028485241763701083 * IXYYIYYX\n",
      "- 0.028485241763701083 * IYYXIXYY\n",
      "+ 0.028485241763701083 * IXYYIXYY\n",
      "+ 0.015216350157807253 * ZIXXZIZX\n",
      "+ 0.015216350157807253 * IZYYIIZX\n",
      "- 0.015216350157807253 * ZIXXZIIX\n",
      "- 0.015216350157807253 * IZYYIIIX\n",
      "+ 0.0440106695247861 * ZIXXIIXX\n",
      "+ 0.0440106695247861 * IZYYZIXX\n",
      "+ 0.0440106695247861 * ZIXXZZYY\n",
      "+ 0.0440106695247861 * IZYYIZYY\n",
      "+ 0.10514821541914522 * IIZZIIIZ\n",
      "- 0.005830419598360427 * IIZZIYYX\n",
      "+ 0.005830419598360427 * IIZZIXYY\n",
      "+ 0.008766118524747294 * IYYZIIZX\n",
      "+ 0.008766118524747294 * IXXIIIZX\n",
      "- 0.008766118524747294 * IYYZIIIX\n",
      "- 0.008766118524747294 * IXXIIIIX\n",
      "+ 0.00493989813684215 * IYYZZIXX\n",
      "+ 0.00493989813684215 * IXXIZIXX\n",
      "+ 0.00493989813684215 * IYYZIZYY\n",
      "+ 0.00493989813684215 * IXXIIZYY\n",
      "+ 0.033581156692426485 * ZIXZZIIZ\n",
      "- 0.033581156692426485 * IZXIIIIZ\n",
      "- 0.011227334323536144 * ZIXZZYYX\n",
      "+ 0.011227334323536144 * IZXIIYYX\n",
      "+ 0.011227334323536144 * ZIXZZXYY\n",
      "- 0.011227334323536144 * IZXIIXYY\n",
      "+ 0.14033538317998157 * IZIIIIIZ\n",
      "- 0.024082035995106842 * IZIIIYYX\n",
      "+ 0.024082035995106842 * IZIIIXYY\n",
      "+ 0.007350491620167774 * ZXZIZIZX\n",
      "- 0.007350491620167774 * IXIIIIZX\n",
      "- 0.007350491620167774 * ZXZIZIIX\n",
      "+ 0.007350491620167774 * IXIIIIIX\n",
      "+ 0.02254126521344591 * ZXZIIIXX\n",
      "- 0.02254126521344591 * IXIIZIXX\n",
      "+ 0.02254126521344591 * ZXZIZZYY\n",
      "- 0.02254126521344591 * IXIIIZYY\n",
      "+ 0.21658719329788378 * ZZZIZIIZ\n",
      "- 0.05737639300980054 * ZZZIZYYX\n",
      "+ 0.05737639300980054 * ZZZIZXYY\n",
      "+ 0.07624645876879245 * IIIIIZZZ\n",
      "+ 0.09682819951786377 * IIIIZZIZ\n",
      "+ 0.019420915085326975 * IIIIZZXZ\n",
      "- 0.019420915085326975 * IIIIIIXI\n",
      "+ 0.10514821541914522 * IIIZIIZZ\n",
      "+ 0.033581156692426485 * IIIZZIXZ\n",
      "- 0.033581156692426485 * IIIZIZXI\n",
      "+ 0.008766118524747296 * IIZXIYYZ\n",
      "- 0.008766118524747296 * IIIXIYYZ\n",
      "+ 0.008766118524747296 * IIZXIXXI\n",
      "- 0.008766118524747296 * IIIXIXXI\n",
      "- 0.005830419598360427 * IYYXIIZZ\n",
      "+ 0.005830419598360427 * IXYYIIZZ\n",
      "- 0.011227334323536144 * IYYXZIXZ\n",
      "+ 0.011227334323536144 * IXYYZIXZ\n",
      "+ 0.011227334323536144 * IYYXIZXI\n",
      "- 0.011227334323536144 * IXYYIZXI\n",
      "+ 0.0049398981368421494 * ZIXXZYYZ\n",
      "+ 0.0049398981368421494 * IZYYIYYZ\n",
      "+ 0.0049398981368421494 * ZIXXZXXI\n",
      "+ 0.0049398981368421494 * IZYYIXXI\n",
      "+ 0.09293603400972804 * IIZZIIZZ\n",
      "+ 0.008315386987069762 * IIZZZIXZ\n",
      "- 0.008315386987069762 * IIZZIZXI\n",
      "+ 0.014314189423418291 * IYYZIYYZ\n",
      "+ 0.014314189423418291 * IXXIIYYZ\n",
      "+ 0.014314189423418291 * IYYZIXXI\n",
      "+ 0.014314189423418291 * IXXIIXXI\n",
      "+ 0.008315386987069762 * ZIXZZIZZ\n",
      "- 0.008315386987069762 * IZXIIIZZ\n",
      "+ 0.009799639649737926 * ZIXZIIXZ\n",
      "- 0.009799639649737926 * IZXIZIXZ\n",
      "- 0.009799639649737926 * ZIXZZZXI\n",
      "+ 0.009799639649737926 * IZXIIZXI\n",
      "+ 0.0905606481922108 * IZIIIIZZ\n",
      "+ 0.015383064971252554 * IZIIZIXZ\n",
      "- 0.015383064971252554 * IZIIIZXI\n",
      "+ 0.004037850114074401 * ZXZIZYYZ\n",
      "- 0.004037850114074401 * IXIIIYYZ\n",
      "+ 0.004037850114074401 * ZXZIZXXI\n",
      "- 0.004037850114074401 * IXIIIXXI\n",
      "+ 0.10662783916760205 * ZZZIZIZZ\n",
      "+ 0.036822959213624426 * ZZZIIIXZ\n",
      "- 0.036822959213624426 * ZZZIZZXI\n",
      "+ 0.1258531304632096 * IIIIZIZI\n",
      "+ 0.14033538317998157 * IIIZIZII\n",
      "+ 0.007350491620167774 * IIZXZXZI\n",
      "- 0.007350491620167774 * IIIXZXZI\n",
      "- 0.007350491620167774 * IIZXIXII\n",
      "+ 0.007350491620167774 * IIIXIXII\n",
      "- 0.02408203599510684 * IYYXIZII\n",
      "+ 0.02408203599510684 * IXYYIZII\n",
      "+ 0.02254126521344591 * ZIXXIXZI\n",
      "+ 0.02254126521344591 * IZYYZXZI\n",
      "- 0.02254126521344591 * ZIXXZXII\n",
      "- 0.02254126521344591 * IZYYIXII\n",
      "+ 0.0905606481922108 * IIZZIZII\n",
      "+ 0.004037850114074402 * IYYZZXZI\n",
      "+ 0.004037850114074402 * IXXIZXZI\n",
      "- 0.004037850114074402 * IYYZIXII\n",
      "- 0.004037850114074402 * IXXIIXII\n",
      "+ 0.015383064971252552 * ZIXZZZII\n",
      "- 0.015383064971252552 * IZXIIZII\n",
      "+ 0.10841901057517317 * IZIIIZII\n",
      "+ 0.014102106430059876 * ZXZIIXZI\n",
      "- 0.014102106430059876 * IXIIZXZI\n",
      "- 0.014102106430059876 * ZXZIZXII\n",
      "+ 0.014102106430059876 * IXIIIXII\n",
      "+ 0.13995523689326944 * ZZZIZZII\n",
      "+ 0.21658719329788378 * IIIZZZZI\n",
      "- 0.05737639300980055 * IYYXZZZI\n",
      "+ 0.05737639300980055 * IXYYZZZI\n",
      "+ 0.10662783916760205 * IIZZZZZI\n",
      "+ 0.036822959213624426 * ZIXZIZZI\n",
      "- 0.036822959213624426 * IZXIZZZI\n",
      "+ 0.13995523689326944 * IZIIZZZI\n",
      "+ 0.2348916555006534 * ZZZIIZZI\n",
      "+ 0.09564481599814345 * IIZIIIII\n",
      "+ 0.01836480653461932 * ZIXIZIII\n",
      "- 0.01836480653461932 * IZXZIIII\n",
      "+ 0.11185014141628051 * IZIZIIII\n",
      "+ 0.1725765237730976 * ZZZZZIII\n",
      "- 0.014596538123107706 * IYXYIIII\n",
      "- 0.014596538123107706 * IXXXIIII\n",
      "+ 0.0161672324603783 * ZYZYZIII\n",
      "+ 0.01229038975700995 * ZXIXZIII\n",
      "+ 0.0038768427033683134 * IXZXIIII\n",
      "+ 0.0038768427033683134 * ZXZXZIII\n",
      "+ 0.01229038975700995 * IXIXIIII\n",
      "+ 0.0161672324603783 * IYZYIIII\n",
      "+ 0.03483512779635464 * ZXXXZIII\n",
      "+ 0.03483512779635464 * ZYXYZIII\n",
      "+ 0.07624645876879245 * IZZZIIII\n",
      "+ 0.09682819951786377 * ZZIZZIII\n",
      "+ 0.019420915085326975 * ZZXZZIII\n",
      "- 0.019420915085326975 * IIXIIIII\n",
      "+ 0.1258531304632096 * ZIZIZIII\n"
     ]
    }
   ],
   "source": [
    "#Bravyi-Kitaev mapping\n",
    "qubit_converter4 = QubitConverter(mapper=BravyiKitaevMapper())\n",
    "qubit_op4 = qubit_converter4.convert(second_q_op[0])\n",
    "print(qubit_op4)"
   ]
  },
  {
   "cell_type": "code",
   "execution_count": 26,
   "id": "medical-washer",
   "metadata": {},
   "outputs": [],
   "source": [
    "gsc4 = GroundStateEigensolver(qubit_converter4, solver)"
   ]
  },
  {
   "cell_type": "code",
   "execution_count": 27,
   "id": "incident-color",
   "metadata": {},
   "outputs": [],
   "source": [
    "results_full4 = {}  # full dictionary of results for each condition\n",
    "results4 = {}  # dictionary of (point,energy) results for each condition\n",
    "\n",
    "# define instance to sampler\n",
    "bs4 = BOPESSampler(gsc4, bootstrap=True, num_bootstrap=None, extrapolator=None)\n",
    "\n",
    "# execute\n",
    "res4 = bs4.sample(es_problem, points)\n",
    "results_full4[f\"\"] = res4.raw_results\n",
    "results4[f\"points_\"] = res4.points\n",
    "results4[f\"energies_\"] = res4.energies"
   ]
  },
  {
   "cell_type": "markdown",
   "id": "exceptional-market",
   "metadata": {},
   "source": [
    "Energie v jednotlivých bodech z VQE při BK mapování:"
   ]
  },
  {
   "cell_type": "code",
   "execution_count": 28,
   "id": "minimal-small",
   "metadata": {},
   "outputs": [
    {
     "name": "stdout",
     "output_type": "stream",
     "text": [
      "[-0.6406547077146197, -0.70619452504152, -0.7568288940900771, -0.797215254608441, -0.830127581204621, -0.857308948122955, -0.87992779762808, -0.8988179629646154, -0.9146120563485414, -0.9278092980278806]\n"
     ]
    }
   ],
   "source": [
    "print(results4[f\"energies_\"])"
   ]
  },
  {
   "cell_type": "markdown",
   "id": "wireless-tracy",
   "metadata": {},
   "source": [
    "Výsledky vykreslíme v grafu:"
   ]
  },
  {
   "cell_type": "code",
   "execution_count": 32,
   "id": "collect-split",
   "metadata": {},
   "outputs": [
    {
     "data": {
      "image/png": "[encoded data removed]",
      "text/plain": [
       "<Figure size 1080x576 with 1 Axes>"
      ]
     },
     "metadata": {
      "needs_background": "light"
     },
     "output_type": "display_data"
    }
   ],
   "source": [
    "fig4 = plt.figure(figsize=(15, 8))\n",
    "\n",
    "plt.plot(results4[f\"points_\"], results4[f\"energies_\"], label=f\"VQE-BK\")\n",
    "plt.plot(results[\"points_np\"], results[\"energies_np\"], label=\"classical\")\n",
    "plt.legend()\n",
    "plt.title(\"Dissociation profile\")\n",
    "plt.xlabel(\"Interatomic distance\")\n",
    "plt.ylabel(\"Energy\")\n",
    "\n",
    "#disable scientific notation\n",
    "plt.ticklabel_format(useOffset=False, style='plain')"
   ]
  },
  {
   "cell_type": "code",
   "execution_count": 30,
   "id": "super-lindsay",
   "metadata": {},
   "outputs": [
    {
     "name": "stdout",
     "output_type": "stream",
     "text": [
      "Total evaluations: \n",
      "1115\n"
     ]
    }
   ],
   "source": [
    "for condition, result_full4 in results_full4.items():\n",
    "    if condition != \"np\":\n",
    "        print(\"Total evaluations: \")\n",
    "        sum4 = 0\n",
    "        for key in result_full4:\n",
    "            sum4 += result_full4[key].raw_result.cost_function_evals\n",
    "            \n",
    "    else:\n",
    "        continue\n",
    "    print(sum4)"
   ]
  },
  {
   "cell_type": "markdown",
   "id": "neutral-passion",
   "metadata": {},
   "source": [
    "Je vidět, že nepřesnost je zde ze zvolených metod zdaleka největší, ačkoli počet vyhodnocení je zde oproti JW a paritnímu mapování bez redukce nejnižší. Mimo jiné demonstruje, že ač BK mapování slibuje nejlepší asymptotické škálování co do počtu bran, tak obzvláště u menších molekul nemusí být nejlepší volbou."
   ]
  },
  {
   "cell_type": "code",
   "execution_count": 31,
   "id": "explicit-frank",
   "metadata": {},
   "outputs": [],
   "source": [
    "# This code is a modification of Qiskit code licensed under the Apache License, Version 2.0."
   ]
  }
 ],
 "metadata": {
  "kernelspec": {
   "display_name": "Python 3",
   "language": "python",
   "name": "python3"
  },
  "language_info": {
   "codemirror_mode": {
    "name": "ipython",
    "version": 3
   },
   "file_extension": ".py",
   "mimetype": "text/x-python",
   "name": "python",
   "nbconvert_exporter": "python",
   "pygments_lexer": "ipython3",
   "version": "3.8.6"
  }
 },
 "nbformat": 4,
 "nbformat_minor": 5
}
