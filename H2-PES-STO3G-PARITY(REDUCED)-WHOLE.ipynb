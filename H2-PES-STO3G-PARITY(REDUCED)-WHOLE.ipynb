{
 "cells": [
  {
   "cell_type": "markdown",
   "id": "authorized-storm",
   "metadata": {},
   "source": [
    "# Disociační křivka molekulárního vodíku - celá\n",
    "V tomto notebooku je ukázka výpočtu disociační křivky molekulárního vodíku při použití bazického souboru STO-3G. Voleno zde bude paritní mapování u kterého je ze znalosti symetrií možné odstranit 2 ze 4 qubitů a urychlit tak výpočet. Výpočet dále urychlíme též využitím tzv. bootstrappingu, kdy vzorkovač (BOPES) využívá optimálních variačních parametrů daného stupně volnosti jako počátečních bodů pro VQE v dalších stupních volnosti."
   ]
  },
  {
   "cell_type": "code",
   "execution_count": 1,
   "id": "charitable-official",
   "metadata": {
    "scrolled": true
   },
   "outputs": [
    {
     "data": {
      "text/plain": [
       "{'qiskit-terra': '0.21.0', 'qiskit-aer': '0.10.4', 'qiskit-ignis': '0.5.2', 'qiskit-ibmq-provider': '0.19.2', 'qiskit': '0.37.0', 'qiskit-nature': '0.4.3', 'qiskit-finance': None, 'qiskit-optimization': None, 'qiskit-machine-learning': None}"
      ]
     },
     "execution_count": 1,
     "metadata": {},
     "output_type": "execute_result"
    }
   ],
   "source": [
    "#version control\n",
    "import qiskit\n",
    "qiskit.__qiskit_version__"
   ]
  },
  {
   "cell_type": "code",
   "execution_count": 2,
   "id": "another-crazy",
   "metadata": {},
   "outputs": [],
   "source": [
    "# import common packages\n",
    "import numpy as np\n",
    "import pandas as pd\n",
    "import matplotlib.pyplot as plt\n",
    "from functools import partial\n",
    "\n",
    "# import qiskit tools\n",
    "from qiskit.utils import QuantumInstance, algorithm_globals\n",
    "from qiskit import Aer\n",
    "from qiskit.algorithms.minimum_eigen_solvers import NumPyMinimumEigensolver, VQE\n",
    "from qiskit.algorithms.optimizers import SLSQP\n",
    "from qiskit.circuit.library import ExcitationPreserving\n",
    "from qiskit import BasicAer\n",
    "from qiskit.algorithms import NumPyMinimumEigensolver, VQE\n",
    "\n",
    "# improt qiskit nature tools\n",
    "from qiskit_nature.problems.second_quantization import ElectronicStructureProblem\n",
    "from qiskit_nature.converters.second_quantization import QubitConverter\n",
    "from qiskit_nature.mappers.second_quantization import JordanWignerMapper, ParityMapper\n",
    "from qiskit_nature.algorithms import GroundStateEigensolver\n",
    "from qiskit_nature.drivers import UnitsType, Molecule\n",
    "from qiskit_nature.drivers.second_quantization import (\n",
    "    ElectronicStructureDriverType,\n",
    "    ElectronicStructureMoleculeDriver,\n",
    ")\n",
    "from qiskit_nature.algorithms.pes_samplers import BOPESSampler\n",
    "\n",
    "import warnings\n",
    "\n",
    "warnings.simplefilter(\"ignore\", np.RankWarning)\n",
    "\n",
    "algorithm_globals.random_seed = 75"
   ]
  },
  {
   "cell_type": "markdown",
   "id": "specialized-foster",
   "metadata": {},
   "source": [
    "Jako klasický driver volíme Psi4 a jako bazický soubor STO3G."
   ]
  },
  {
   "cell_type": "code",
   "execution_count": 3,
   "id": "oriented-absence",
   "metadata": {},
   "outputs": [],
   "source": [
    "#define the distance which will be regarded as a degree of freedom\n",
    "distance = partial(Molecule.absolute_distance, atom_pair=(1, 0))\n",
    "\n",
    "#define the molecule\n",
    "molecule = Molecule(\n",
    "    geometry=[(\"H\", [0.0, 0.0, 0.0]), (\"H\", [0.0, 0.0, 0.3])],\n",
    "    degrees_of_freedom=[distance],\n",
    ")\n",
    "\n",
    "# pass molecule to PSI4 driver with sto3g basis\n",
    "driver = ElectronicStructureMoleculeDriver(\n",
    "    molecule, basis=\"sto3g\", driver_type=ElectronicStructureDriverType.PSI4\n",
    ")"
   ]
  },
  {
   "cell_type": "markdown",
   "id": "about-pattern",
   "metadata": {},
   "source": [
    "Zde můžeme vidět, jak vypadá fermionový operátor v druhém kvantování:"
   ]
  },
  {
   "cell_type": "code",
   "execution_count": 4,
   "id": "expired-ridge",
   "metadata": {},
   "outputs": [
    {
     "name": "stdout",
     "output_type": "stream",
     "text": [
      "Fermionic Operator\n",
      "register length=4, number terms=36\n",
      "  -1.5548851753542183 * ( +_0 -_0 )\n",
      "+ 0.04595317487126352 * ( +_1 -_1 )\n",
      "+ -1.5548851753542183 * ( +_2 -_2 )\n",
      "+ 0.04595317487126352 * ( +_3 -_3 )\n",
      "+ -0.3760092779784942 * ( +_0 +_0 -_0 -_0 )\n",
      "+ -0.080 ...\n"
     ]
    }
   ],
   "source": [
    "#define eloctronic structure problem\n",
    "es_problem = ElectronicStructureProblem(driver)\n",
    "second_q_op = es_problem.second_q_ops()\n",
    "print(second_q_op[0])"
   ]
  },
  {
   "cell_type": "markdown",
   "id": "arbitrary-wayne",
   "metadata": {},
   "source": [
    "V tomto případě pro názornost použijeme vzhledem k již zmíněným výhodám paritní mapování s redukcí počtu qubitů mapování:"
   ]
  },
  {
   "cell_type": "code",
   "execution_count": 5,
   "id": "pharmaceutical-creativity",
   "metadata": {},
   "outputs": [
    {
     "name": "stdout",
     "output_type": "stream",
     "text": [
      "-0.7537419523744057 * II\n",
      "+ 0.8086489097332472 * IZ\n",
      "- 0.8086489097332513 * ZI\n",
      "- 0.01328797708945724 * ZZ\n",
      "+ 0.16081851920861365 * XX\n"
     ]
    }
   ],
   "source": [
    "#Parity mapping with reduction\n",
    "qubit_converter = QubitConverter(mapper=ParityMapper(), two_qubit_reduction=True)\n",
    "qubit_op = qubit_converter.convert(second_q_op[0], num_particles=es_problem.num_particles)\n",
    "print(qubit_op)"
   ]
  },
  {
   "cell_type": "markdown",
   "id": "constant-notion",
   "metadata": {},
   "source": [
    "V dalším definujeme úlohu a jako backend použijeme StatevectorSimulator."
   ]
  },
  {
   "cell_type": "code",
   "execution_count": 6,
   "id": "moral-arrangement",
   "metadata": {},
   "outputs": [],
   "source": [
    "#define quantum instance (using statevector simulator)\n",
    "quantum_instance = QuantumInstance(backend=Aer.get_backend(\"aer_simulator_statevector\"))\n",
    "solver = VQE(quantum_instance=quantum_instance)\n",
    "gsc = GroundStateEigensolver(qubit_converter, solver)"
   ]
  },
  {
   "cell_type": "markdown",
   "id": "demographic-richards",
   "metadata": {},
   "source": [
    "Úlohu budeme počítat v 10 ekvidistantně rozmístěných bodech pro vzdálenosti jader v rozmezí 0,2 až 2 Ångströmy. Ke vzorkování se použije třída BOPESSampler sloužící k vyhodnocení PES při Born-Oppenheimrově aproximaci. Bootstrapping volíme jako True."
   ]
  },
  {
   "cell_type": "code",
   "execution_count": 7,
   "id": "blessed-alberta",
   "metadata": {},
   "outputs": [],
   "source": [
    "# Specify degree of freedom (points of interest)\n",
    "points = np.linspace(0.2, 2, 10) #equidistantly distributes 10 points in given range\n",
    "results_full = {}  # full dictionary of results for each condition\n",
    "results = {}  # dictionary of (point,energy) results for each condition\n",
    "\n",
    "# define instance to sampler\n",
    "bs = BOPESSampler(gsc, bootstrap=True, num_bootstrap=None, extrapolator=None)\n",
    "\n",
    "# execute\n",
    "res = bs.sample(es_problem, points)\n",
    "results_full[f\"VQE\"] = res.raw_results\n",
    "results[f\"points_\"] = res.points\n",
    "results[f\"energies_\"] = res.energies"
   ]
  },
  {
   "cell_type": "markdown",
   "id": "attempted-deputy",
   "metadata": {},
   "source": [
    "Pro srovnání použijeme klasické řešení:"
   ]
  },
  {
   "cell_type": "code",
   "execution_count": 8,
   "id": "seasonal-incentive",
   "metadata": {},
   "outputs": [],
   "source": [
    "#compare to classical eigensolver\n",
    "# define numpy solver\n",
    "solver_numpy = NumPyMinimumEigensolver()\n",
    "me_gsc_numpy = GroundStateEigensolver(qubit_converter, solver_numpy)\n",
    "bs_classical = BOPESSampler(me_gsc_numpy, bootstrap=False, num_bootstrap=None, extrapolator=None)\n",
    "\n",
    "# execute\n",
    "res_np = bs_classical.sample(es_problem, points)\n",
    "results_full[\"np\"] = res_np.raw_results\n",
    "results[\"points_np\"] = res_np.points\n",
    "results[\"energies_np\"] = res_np.energies"
   ]
  },
  {
   "cell_type": "markdown",
   "id": "unnecessary-notice",
   "metadata": {},
   "source": [
    "Energie v jednotlivých bodech z VQE:"
   ]
  },
  {
   "cell_type": "code",
   "execution_count": 9,
   "id": "turned-benjamin",
   "metadata": {},
   "outputs": [
    {
     "name": "stdout",
     "output_type": "stream",
     "text": [
      "[0.1574821401123141, -0.9141496867585093, -1.1162860036596327, -1.1341475893375006, -1.1011502148157222, -1.056740357470016, -1.0154679784541143, -0.9834714570908841, -0.9618140329105869, -0.9486369359360629]\n"
     ]
    }
   ],
   "source": [
    "print(results[f\"energies_\"])"
   ]
  },
  {
   "cell_type": "markdown",
   "id": "colored-scenario",
   "metadata": {},
   "source": [
    "Energie v jednotlivých bodech klasicky:"
   ]
  },
  {
   "cell_type": "code",
   "execution_count": 10,
   "id": "proper-present",
   "metadata": {},
   "outputs": [
    {
     "name": "stdout",
     "output_type": "stream",
     "text": [
      "[0.1574821336550345, -0.9141497050119476, -1.1162860069722238, -1.1341476666428465, -1.1011503301329562, -1.0567407461794303, -1.015468249165326, -0.9834727289323325, -0.9618169527204077, -0.948641112129649]\n"
     ]
    }
   ],
   "source": [
    "print(results[\"energies_np\"])"
   ]
  },
  {
   "cell_type": "markdown",
   "id": "empty-offer",
   "metadata": {},
   "source": [
    "Výsledky vykreslíme v grafu:"
   ]
  },
  {
   "cell_type": "code",
   "execution_count": 14,
   "id": "welcome-consultation",
   "metadata": {},
   "outputs": [
    {
     "data": {
      "text/plain": [
       "Text(0, 0.5, 'Energy')"
      ]
     },
     "execution_count": 14,
     "metadata": {},
     "output_type": "execute_result"
    },
    {
     "data": {
      "image/png": "[encoded data removed]",
      "text/plain": [
       "<Figure size 1080x576 with 1 Axes>"
      ]
     },
     "metadata": {
      "needs_background": "light"
     },
     "output_type": "display_data"
    }
   ],
   "source": [
    "fig = plt.figure(figsize=(15, 8))\n",
    "\n",
    "plt.plot(results[f\"points_\"], results[f\"energies_\"], label=f\"VQE\")\n",
    "plt.plot(results[\"points_np\"], results[\"energies_np\"], label=\"classical\")\n",
    "plt.legend()\n",
    "plt.title(\"Dissociation profile STO-3G\")\n",
    "plt.xlabel(\"Interatomic distance\")\n",
    "plt.ylabel(\"Energy\")"
   ]
  },
  {
   "cell_type": "markdown",
   "id": "developed-cross",
   "metadata": {},
   "source": [
    "Je vidět, že výsledky VQE na této škále tak dobře souhlasí s klasickými, že se křivky zcela překrývají. Proto se v dalších výpočtech budeme soustředit na velmi úzkou oblast vzdáleností jader, kde budou rozdíly mezi klasickým řešením a VQE patrnější.\n",
    "Zde se ještě můžeme podívat, kolik bylo pro tento výpočet potřeba vyhodnocení VQE (při použití bootstrap)."
   ]
  },
  {
   "cell_type": "code",
   "execution_count": 12,
   "id": "imposed-sleeve",
   "metadata": {},
   "outputs": [
    {
     "name": "stdout",
     "output_type": "stream",
     "text": [
      "Total evaluations: \n",
      "366\n"
     ]
    }
   ],
   "source": [
    "for condition, result_full in results_full.items():\n",
    "    if condition != \"np\":\n",
    "        print(\"Total evaluations: \")\n",
    "        sum = 0\n",
    "        for key in result_full:\n",
    "            sum += result_full[key].raw_result.cost_function_evals  \n",
    "        else:\n",
    "            continue\n",
    "    print(sum)"
   ]
  },
  {
   "cell_type": "code",
   "execution_count": 13,
   "id": "purple-second",
   "metadata": {},
   "outputs": [],
   "source": [
    "# This code is a modification of Qiskit code licensed under the Apache License, Version 2.0."
   ]
  }
 ],
 "metadata": {
  "kernelspec": {
   "display_name": "Python 3",
   "language": "python",
   "name": "python3"
  },
  "language_info": {
   "codemirror_mode": {
    "name": "ipython",
    "version": 3
   },
   "file_extension": ".py",
   "mimetype": "text/x-python",
   "name": "python",
   "nbconvert_exporter": "python",
   "pygments_lexer": "ipython3",
   "version": "3.8.6"
  }
 },
 "nbformat": 4,
 "nbformat_minor": 5
}
