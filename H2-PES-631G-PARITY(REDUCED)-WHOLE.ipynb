{
 "cells": [
  {
   "cell_type": "markdown",
   "id": "authorized-storm",
   "metadata": {},
   "source": [
    "# Disociační křivka molekulárního vodíku - celá\n",
    "V tomto notebooku je ukázka výpočtu disociační křivky molekulárního vodíku při použití bazického souboru 6-31G. Voleno zde bude paritní mapování u kterého je ze znalosti symetrií možné odstranit 2 ze 4 qubitů a urychlit tak výpočet. Výpočet dále urychlíme též využitím tzv. bootstrappingu, kdy vzorkovač (BOPES) využívá optimálních variačních parametrů daného stupně volnosti jako počátečních bodů pro VQE v dalších stupních volnosti."
   ]
  },
  {
   "cell_type": "code",
   "execution_count": 1,
   "id": "charitable-official",
   "metadata": {
    "scrolled": true
   },
   "outputs": [
    {
     "data": {
      "text/plain": [
       "{'qiskit-terra': '0.21.0', 'qiskit-aer': '0.10.4', 'qiskit-ignis': '0.5.2', 'qiskit-ibmq-provider': '0.19.2', 'qiskit': '0.37.0', 'qiskit-nature': '0.4.3', 'qiskit-finance': None, 'qiskit-optimization': None, 'qiskit-machine-learning': None}"
      ]
     },
     "execution_count": 1,
     "metadata": {},
     "output_type": "execute_result"
    }
   ],
   "source": [
    "#version control\n",
    "import qiskit\n",
    "qiskit.__qiskit_version__"
   ]
  },
  {
   "cell_type": "code",
   "execution_count": 2,
   "id": "another-crazy",
   "metadata": {},
   "outputs": [],
   "source": [
    "# import common packages\n",
    "import numpy as np\n",
    "import pandas as pd\n",
    "import matplotlib.pyplot as plt\n",
    "from functools import partial\n",
    "\n",
    "# import qiskit tools\n",
    "from qiskit.utils import QuantumInstance, algorithm_globals\n",
    "from qiskit import Aer\n",
    "from qiskit.algorithms.minimum_eigen_solvers import NumPyMinimumEigensolver, VQE\n",
    "from qiskit.algorithms.optimizers import SLSQP\n",
    "from qiskit.circuit.library import ExcitationPreserving\n",
    "from qiskit import BasicAer\n",
    "from qiskit.algorithms import NumPyMinimumEigensolver, VQE\n",
    "\n",
    "# improt qiskit nature tools\n",
    "from qiskit_nature.problems.second_quantization import ElectronicStructureProblem\n",
    "from qiskit_nature.converters.second_quantization import QubitConverter\n",
    "from qiskit_nature.mappers.second_quantization import JordanWignerMapper, ParityMapper\n",
    "from qiskit_nature.algorithms import GroundStateEigensolver\n",
    "from qiskit_nature.drivers import UnitsType, Molecule\n",
    "from qiskit_nature.drivers.second_quantization import (\n",
    "    ElectronicStructureDriverType,\n",
    "    ElectronicStructureMoleculeDriver,\n",
    ")\n",
    "from qiskit_nature.algorithms.pes_samplers import BOPESSampler\n",
    "\n",
    "import warnings\n",
    "\n",
    "warnings.simplefilter(\"ignore\", np.RankWarning)\n",
    "\n",
    "algorithm_globals.random_seed = 75"
   ]
  },
  {
   "cell_type": "markdown",
   "id": "specialized-foster",
   "metadata": {},
   "source": [
    "Jako klasický driver volíme Psi4 a jako bazický soubor 6-31G."
   ]
  },
  {
   "cell_type": "code",
   "execution_count": 3,
   "id": "oriented-absence",
   "metadata": {},
   "outputs": [],
   "source": [
    "#define the distance which will be regarded as a degree of freedom\n",
    "distance = partial(Molecule.absolute_distance, atom_pair=(1, 0))\n",
    "\n",
    "#define the molecule\n",
    "molecule = Molecule(\n",
    "    geometry=[(\"H\", [0.0, 0.0, 0.0]), (\"H\", [0.0, 0.0, 0.3])],\n",
    "    degrees_of_freedom=[distance],\n",
    ")\n",
    "\n",
    "# pass molecule to PSI4 driver with sto3g basis\n",
    "driver = ElectronicStructureMoleculeDriver(\n",
    "    molecule, basis=\"6-31g\", driver_type=ElectronicStructureDriverType.PSI4\n",
    ")"
   ]
  },
  {
   "cell_type": "markdown",
   "id": "about-pattern",
   "metadata": {},
   "source": [
    "Zde můžeme vidět, jak vypadá fermionový operátor v druhém kvantování:"
   ]
  },
  {
   "cell_type": "code",
   "execution_count": 4,
   "id": "expired-ridge",
   "metadata": {},
   "outputs": [
    {
     "name": "stdout",
     "output_type": "stream",
     "text": [
      "Fermionic Operator\n",
      "register length=8, number terms=528\n",
      "  -1.6354187225929817 * ( +_0 -_0 )\n",
      "+ -0.21531189509470797 * ( +_0 -_2 )\n",
      "+ -0.4677371911218105 * ( +_1 -_1 )\n",
      "+ -0.2077838530542889 * ( +_1 -_3 )\n",
      "+ -0.21531189509470794 * ( +_2 -_0 )\n",
      "+ -0.409726538 ...\n"
     ]
    }
   ],
   "source": [
    "#define eloctronic structure problem\n",
    "es_problem = ElectronicStructureProblem(driver)\n",
    "second_q_op = es_problem.second_q_ops()\n",
    "print(second_q_op[0])"
   ]
  },
  {
   "cell_type": "markdown",
   "id": "arbitrary-wayne",
   "metadata": {},
   "source": [
    "V tomto případě pro názornost použijeme vzhledem k již zmíněným výhodám paritní mapování s redukcí počtu qubitů mapování:"
   ]
  },
  {
   "cell_type": "code",
   "execution_count": 5,
   "id": "pharmaceutical-creativity",
   "metadata": {},
   "outputs": [
    {
     "name": "stdout",
     "output_type": "stream",
     "text": [
      "2.0489637661958287 * IIIIII\n",
      "- 0.23987258067264663 * IIIIIZ\n",
      "- 0.08289254060917933 * IIIZXX\n",
      "- 0.08289254060917933 * IIIIYY\n",
      "- 0.4301236155125804 * IIIIZZ\n",
      "+ 0.02799636295717553 * IIIXXZ\n",
      "- 0.027996362957175676 * IIIYYI\n",
      "- 0.5883567403032337 * IIIZZI\n",
      "+ 1.5701859171820054 * IIIZII\n",
      "+ 0.23987258067264522 * IIZIII\n",
      "+ 0.08289254060917892 * ZXXIII\n",
      "- 0.08289254060917933 * IYYIII\n",
      "- 0.4301236155125804 * IZZIII\n",
      "- 0.027996362957175842 * XXZIII\n",
      "- 0.0279963629571757 * YYIIII\n",
      "- 0.5883567403032338 * ZZIIII\n",
      "- 1.5701859171820214 * ZIIIII\n",
      "- 0.030208314465065465 * IIIIZI\n",
      "- 0.03778572161994619 * IIIXXI\n",
      "+ 0.03778572161994618 * IIIYYZ\n",
      "+ 0.01502194189841724 * IIIZZZ\n",
      "- 0.09633006500430422 * IIIZIZ\n",
      "- 0.04943166591946216 * IIIZYY\n",
      "- 0.04943166591946216 * IIIIXX\n",
      "- 0.21543966888460414 * IIZIIZ\n",
      "- 0.05382797363380286 * IIZZXX\n",
      "- 0.05382797363380286 * IIZIYY\n",
      "- 0.00950339942100169 * IZXIZX\n",
      "- 0.009503399421001738 * IIXIZX\n",
      "+ 0.00950339942100169 * IZXIIX\n",
      "+ 0.009503399421001738 * IIXIIX\n",
      "+ 0.015216350157807248 * IZXXXX\n",
      "+ 0.015216350157807172 * IIXXXX\n",
      "- 0.015216350157807172 * IZXYXY\n",
      "- 0.015216350157807248 * IIXYXY\n",
      "- 0.05382797363380286 * ZXXIIZ\n",
      "+ 0.05382797363380314 * IYYIIZ\n",
      "- 0.02848524176370093 * ZXXZXX\n",
      "+ 0.028485241763701073 * IYYZXX\n",
      "- 0.02848524176370093 * ZXXIYY\n",
      "+ 0.028485241763701073 * IYYIYY\n",
      "- 0.015216350157807248 * XXXIZX\n",
      "+ 0.015216350157807248 * YXYIZX\n",
      "+ 0.015216350157807248 * XXXIIX\n",
      "- 0.015216350157807248 * YXYIIX\n",
      "+ 0.044010669524786314 * XXXXXX\n",
      "- 0.04401066952478586 * YXYXXX\n",
      "- 0.04401066952478609 * XXXYXY\n",
      "+ 0.044010669524786085 * YXYYXY\n",
      "+ 0.10514821541914518 * IZZIIZ\n",
      "+ 0.0058304195983604245 * IZZZXX\n",
      "+ 0.0058304195983604245 * IZZIYY\n",
      "- 0.00876611852474729 * ZXZIZX\n",
      "+ 0.00876611852474729 * IXIIZX\n",
      "+ 0.00876611852474729 * ZXZIIX\n",
      "- 0.00876611852474729 * IXIIIX\n",
      "+ 0.0049398981368421226 * ZXZXXX\n",
      "- 0.0049398981368421226 * IXIXXX\n",
      "- 0.004939898136842149 * ZXZYXY\n",
      "+ 0.004939898136842149 * IXIYXY\n",
      "+ 0.033581156692426645 * XXZIIZ\n",
      "+ 0.03358115669242647 * YYIIIZ\n",
      "+ 0.011227334323536198 * XXZZXX\n",
      "+ 0.011227334323536139 * YYIZXX\n",
      "+ 0.011227334323536196 * XXZIYY\n",
      "+ 0.011227334323536143 * YYIIYY\n",
      "+ 0.1403353831799815 * ZZIIIZ\n",
      "+ 0.024082035995106832 * ZZIZXX\n",
      "+ 0.024082035995106832 * ZZIIYY\n",
      "+ 0.00735049162016781 * XZIIZX\n",
      "- 0.007350491620167772 * XIIIZX\n",
      "- 0.00735049162016781 * XZIIIX\n",
      "+ 0.007350491620167772 * XIIIIX\n",
      "- 0.022541265213445905 * XZIXXX\n",
      "+ 0.022541265213445787 * XIIXXX\n",
      "+ 0.022541265213446016 * XZIYXY\n",
      "- 0.022541265213445905 * XIIYXY\n",
      "+ 0.21658719329788484 * ZIIIIZ\n",
      "+ 0.05737639300980081 * ZIIZXX\n",
      "+ 0.05737639300980081 * ZIIIYY\n",
      "- 0.10514821541914465 * IIZIZZ\n",
      "+ 0.03358115669242647 * IIZXXZ\n",
      "- 0.0335811566924263 * IIZYYI\n",
      "+ 0.008766118524747247 * IZXZXZ\n",
      "+ 0.008766118524747292 * IIXZXZ\n",
      "- 0.008766118524747247 * IZXIXI\n",
      "- 0.008766118524747292 * IIXIXI\n",
      "- 0.005830419598360395 * ZXXIZZ\n",
      "+ 0.0058304195983604245 * IYYIZZ\n",
      "+ 0.011227334323536139 * ZXXXXZ\n",
      "- 0.011227334323536084 * IYYXXZ\n",
      "- 0.011227334323536084 * ZXXYYI\n",
      "+ 0.011227334323536143 * IYYYYI\n",
      "+ 0.004939898136842148 * XXXZXZ\n",
      "- 0.004939898136842148 * YXYZXZ\n",
      "- 0.004939898136842148 * XXXIXI\n",
      "+ 0.004939898136842148 * YXYIXI\n",
      "+ 0.092936034009728 * IZZIZZ\n",
      "- 0.008315386987069715 * IZZXXZ\n",
      "+ 0.008315386987069759 * IZZYYI\n",
      "+ 0.014314189423418286 * ZXZZXZ\n",
      "- 0.014314189423418286 * IXIZXZ\n",
      "- 0.014314189423418286 * ZXZIXI\n",
      "+ 0.014314189423418286 * IXIIXI\n",
      "+ 0.008315386987069802 * XXZIZZ\n",
      "+ 0.008315386987069759 * YYIIZZ\n",
      "- 0.009799639649737922 * XXZXXZ\n",
      "- 0.009799639649737872 * YYIXXZ\n",
      "+ 0.00979963964973797 * XXZYYI\n",
      "+ 0.009799639649737922 * YYIYYI\n",
      "+ 0.09056064819221077 * ZZIIZZ\n",
      "- 0.015383064971252473 * ZZIXXZ\n",
      "+ 0.01538306497125255 * ZZIYYI\n",
      "- 0.00403785011407442 * XZIZXZ\n",
      "+ 0.004037850114074399 * XIIZXZ\n",
      "+ 0.00403785011407442 * XZIIXI\n",
      "- 0.004037850114074399 * XIIIXI\n",
      "+ 0.10662783916760257 * ZIIIZZ\n",
      "- 0.03682295921362441 * ZIIXXZ\n",
      "+ 0.03682295921362459 * ZIIYYI\n",
      "- 0.1403353831799808 * IIZZZI\n",
      "+ 0.007350491620167772 * IZXXZI\n",
      "+ 0.007350491620167734 * IIXXZI\n",
      "+ 0.007350491620167734 * IZXXII\n",
      "+ 0.007350491620167772 * IIXXII\n",
      "- 0.024082035995106707 * ZXXZZI\n",
      "+ 0.024082035995106832 * IYYZZI\n",
      "+ 0.02254126521344602 * XXXXZI\n",
      "- 0.022541265213445787 * YXYXZI\n",
      "+ 0.022541265213445905 * XXXXII\n",
      "- 0.022541265213445905 * YXYXII\n",
      "+ 0.09056064819221077 * IZZZZI\n",
      "+ 0.004037850114074379 * ZXZXZI\n",
      "- 0.004037850114074379 * IXIXZI\n",
      "+ 0.0040378501140744 * ZXZXII\n",
      "- 0.0040378501140744 * IXIXII\n",
      "+ 0.015383064971252627 * XXZZZI\n",
      "+ 0.015383064971252547 * YYIZZI\n",
      "+ 0.10841901057517313 * ZZIZZI\n",
      "- 0.014102106430059871 * XZIXZI\n",
      "+ 0.014102106430059798 * XIIXZI\n",
      "- 0.014102106430059944 * XZIXII\n",
      "+ 0.014102106430059871 * XIIXII\n",
      "+ 0.1399552368932701 * ZIIZZI\n",
      "+ 0.21658719329788373 * IIZZII\n",
      "+ 0.057376393009800526 * ZXXZII\n",
      "- 0.05737639300980024 * IYYZII\n",
      "- 0.10662783916760146 * IZZZII\n",
      "- 0.03682295921362441 * XXZZII\n",
      "- 0.03682295921362422 * YYIZII\n",
      "- 0.13995523689326866 * ZZIZII\n",
      "- 0.23489165550065333 * ZIIZII\n",
      "+ 0.03020831446506727 * IZIIII\n",
      "- 0.03778572161994629 * XXIIII\n",
      "- 0.037785721619946276 * YYZIII\n",
      "- 0.015021941898415672 * ZZZIII\n",
      "- 0.0963300650043051 * ZIZIII\n",
      "+ 0.049431665919462436 * ZYYIII\n",
      "- 0.04943166591946235 * IXXIII\n"
     ]
    }
   ],
   "source": [
    "#Parity mapping with reduction\n",
    "qubit_converter = QubitConverter(mapper=ParityMapper(), two_qubit_reduction=True)\n",
    "qubit_op = qubit_converter.convert(second_q_op[0], num_particles=es_problem.num_particles)\n",
    "print(qubit_op)"
   ]
  },
  {
   "cell_type": "markdown",
   "id": "constant-notion",
   "metadata": {},
   "source": [
    "V dalším definujeme úlohu a jako backend použijeme StatevectorSimulator."
   ]
  },
  {
   "cell_type": "code",
   "execution_count": 6,
   "id": "moral-arrangement",
   "metadata": {},
   "outputs": [],
   "source": [
    "#define quantum instance (using statevector simulator)\n",
    "quantum_instance = QuantumInstance(backend=Aer.get_backend(\"aer_simulator_statevector\"))\n",
    "solver = VQE(quantum_instance=quantum_instance)\n",
    "gsc = GroundStateEigensolver(qubit_converter, solver)"
   ]
  },
  {
   "cell_type": "markdown",
   "id": "demographic-richards",
   "metadata": {},
   "source": [
    "Úlohu budeme počítat v 10 ekvidistantně rozmístěných bodech pro vzdálenosti jader v rozmezí 0,2 až 2 Ångströmy. Ke vzorkování se použije třída BOPESSampler sloužící k vyhodnocení PES při Born-Oppenheimrově aproximaci. Bootstrapping volíme jako True."
   ]
  },
  {
   "cell_type": "code",
   "execution_count": 7,
   "id": "blessed-alberta",
   "metadata": {},
   "outputs": [],
   "source": [
    "# Specify degree of freedom (points of interest)\n",
    "points = np.linspace(0.2, 2, 10) #equidistantly distributes 10 points in given range\n",
    "results_full = {}  # full dictionary of results for each condition\n",
    "results = {}  # dictionary of (point,energy) results for each condition\n",
    "\n",
    "# define instance to sampler\n",
    "bs = BOPESSampler(gsc, bootstrap=True, num_bootstrap=None, extrapolator=None)\n",
    "\n",
    "# execute\n",
    "res = bs.sample(es_problem, points)\n",
    "results_full[f\"VQE\"] = res.raw_results\n",
    "results[f\"points_\"] = res.points\n",
    "results[f\"energies_\"] = res.energies"
   ]
  },
  {
   "cell_type": "markdown",
   "id": "attempted-deputy",
   "metadata": {},
   "source": [
    "Pro srovnání použijeme klasické řešení:"
   ]
  },
  {
   "cell_type": "code",
   "execution_count": 8,
   "id": "seasonal-incentive",
   "metadata": {},
   "outputs": [],
   "source": [
    "#compare to classical eigensolver\n",
    "# define numpy solver\n",
    "solver_numpy = NumPyMinimumEigensolver()\n",
    "me_gsc_numpy = GroundStateEigensolver(qubit_converter, solver_numpy)\n",
    "bs_classical = BOPESSampler(me_gsc_numpy, bootstrap=False, num_bootstrap=None, extrapolator=None)\n",
    "\n",
    "# execute\n",
    "res_np = bs_classical.sample(es_problem, points)\n",
    "results_full[\"np\"] = res_np.raw_results\n",
    "results[\"points_np\"] = res_np.points\n",
    "results[\"energies_np\"] = res_np.energies"
   ]
  },
  {
   "cell_type": "markdown",
   "id": "unnecessary-notice",
   "metadata": {},
   "source": [
    "Energie v jednotlivých bodech z VQE:"
   ]
  },
  {
   "cell_type": "code",
   "execution_count": 9,
   "id": "turned-benjamin",
   "metadata": {},
   "outputs": [
    {
     "name": "stdout",
     "output_type": "stream",
     "text": [
      "[0.07240312808505278, -0.9428885632464352, -1.1228711203229338, -1.1405381223642903, -1.1177285627590985, -1.0873666029571845, -1.0597557157521087, -1.0368728104394767, -1.0197986279917544, -1.0088813471936389]\n"
     ]
    }
   ],
   "source": [
    "print(results[f\"energies_\"])"
   ]
  },
  {
   "cell_type": "markdown",
   "id": "colored-scenario",
   "metadata": {},
   "source": [
    "Energie v jednotlivých bodech klasicky:"
   ]
  },
  {
   "cell_type": "code",
   "execution_count": 10,
   "id": "proper-present",
   "metadata": {},
   "outputs": [
    {
     "name": "stdout",
     "output_type": "stream",
     "text": [
      "[0.06516888326115078, -0.950678655192025, -1.1319534598304313, -1.1500278813935036, -1.1267783525475017, -1.0955954890043442, -1.0667752736950034, -1.043431819152128, -1.0261357176987371, -1.0143102746687036]\n"
     ]
    }
   ],
   "source": [
    "print(results[\"energies_np\"])"
   ]
  },
  {
   "cell_type": "markdown",
   "id": "empty-offer",
   "metadata": {},
   "source": [
    "Výsledky vykreslíme v grafu:"
   ]
  },
  {
   "cell_type": "code",
   "execution_count": 14,
   "id": "welcome-consultation",
   "metadata": {},
   "outputs": [
    {
     "data": {
      "text/plain": [
       "Text(0, 0.5, 'Energy')"
      ]
     },
     "execution_count": 14,
     "metadata": {},
     "output_type": "execute_result"
    },
    {
     "data": {
      "image/png": "[encoded data removed]",
      "text/plain": [
       "<Figure size 1080x576 with 1 Axes>"
      ]
     },
     "metadata": {
      "needs_background": "light"
     },
     "output_type": "display_data"
    }
   ],
   "source": [
    "fig = plt.figure(figsize=(15, 8))\n",
    "\n",
    "plt.plot(results[f\"points_\"], results[f\"energies_\"], label=f\"VQE\")\n",
    "plt.plot(results[\"points_np\"], results[\"energies_np\"], label=\"classical\")\n",
    "plt.legend()\n",
    "plt.title(\"Dissociation profile 6-31G\")\n",
    "plt.xlabel(\"Interatomic distance\")\n",
    "plt.ylabel(\"Energy\")"
   ]
  },
  {
   "cell_type": "markdown",
   "id": "developed-cross",
   "metadata": {},
   "source": [
    "Je vidět, že výsledky VQE na této škále dobře souhlasí s klasickými, křivky se téměř překrývají. Proto se v dalších výpočtech budeme soustředit na velmi úzkou oblast vzdáleností jader, kde budou rozdíly mezi klasickým řešením a VQE patrnější.\n",
    "Zde se ještě můžeme podívat, kolik bylo pro tento výpočet potřeba vyhodnocení VQE (při použití bootstrap)."
   ]
  },
  {
   "cell_type": "code",
   "execution_count": 12,
   "id": "imposed-sleeve",
   "metadata": {},
   "outputs": [
    {
     "name": "stdout",
     "output_type": "stream",
     "text": [
      "Total evaluations: \n",
      "4089\n"
     ]
    }
   ],
   "source": [
    "for condition, result_full in results_full.items():\n",
    "    if condition != \"np\":\n",
    "        print(\"Total evaluations: \")\n",
    "        sum = 0\n",
    "        for key in result_full:\n",
    "            sum += result_full[key].raw_result.cost_function_evals  \n",
    "        else:\n",
    "            continue\n",
    "    print(sum)"
   ]
  },
  {
   "cell_type": "code",
   "execution_count": 13,
   "id": "purple-second",
   "metadata": {},
   "outputs": [],
   "source": [
    "# This code is a modification of Qiskit code licensed under the Apache License, Version 2.0."
   ]
  }
 ],
 "metadata": {
  "kernelspec": {
   "display_name": "Python 3",
   "language": "python",
   "name": "python3"
  },
  "language_info": {
   "codemirror_mode": {
    "name": "ipython",
    "version": 3
   },
   "file_extension": ".py",
   "mimetype": "text/x-python",
   "name": "python",
   "nbconvert_exporter": "python",
   "pygments_lexer": "ipython3",
   "version": "3.8.6"
  }
 },
 "nbformat": 4,
 "nbformat_minor": 5
}
