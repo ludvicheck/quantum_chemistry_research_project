{
 "cells": [
  {
   "cell_type": "markdown",
   "id": "authorized-storm",
   "metadata": {},
   "source": [
    "# Disociační křivka molekulárního vodíku - celá\n",
    "V tomto notebooku je ukázka výpočtu disociační křivky molekulárního vodíku při použití bazického souboru cc-PVZD. Voleno zde bude paritní mapování u kterého je ze znalosti symetrií možné odstranit 2 ze 4 qubitů a urychlit tak výpočet. Výpočet dále urychlíme též využitím tzv. bootstrappingu, kdy vzorkovač (BOPES) využívá optimálních variačních parametrů daného stupně volnosti jako počátečních bodů pro VQE v dalších stupních volnosti."
   ]
  },
  {
   "cell_type": "code",
   "execution_count": 1,
   "id": "charitable-official",
   "metadata": {
    "scrolled": true
   },
   "outputs": [
    {
     "data": {
      "text/plain": [
       "{'qiskit-terra': '0.21.0', 'qiskit-aer': '0.10.4', 'qiskit-ignis': '0.5.2', 'qiskit-ibmq-provider': '0.19.2', 'qiskit': '0.37.0', 'qiskit-nature': '0.4.3', 'qiskit-finance': None, 'qiskit-optimization': None, 'qiskit-machine-learning': None}"
      ]
     },
     "execution_count": 1,
     "metadata": {},
     "output_type": "execute_result"
    }
   ],
   "source": [
    "#version control\n",
    "import qiskit\n",
    "qiskit.__qiskit_version__"
   ]
  },
  {
   "cell_type": "code",
   "execution_count": 2,
   "id": "another-crazy",
   "metadata": {},
   "outputs": [],
   "source": [
    "# import common packages\n",
    "import numpy as np\n",
    "import pandas as pd\n",
    "import matplotlib.pyplot as plt\n",
    "from functools import partial\n",
    "\n",
    "# import qiskit tools\n",
    "from qiskit.utils import QuantumInstance, algorithm_globals\n",
    "from qiskit import Aer\n",
    "from qiskit.algorithms.minimum_eigen_solvers import NumPyMinimumEigensolver, VQE\n",
    "from qiskit.algorithms.optimizers import SLSQP\n",
    "from qiskit.circuit.library import ExcitationPreserving\n",
    "from qiskit import BasicAer\n",
    "from qiskit.algorithms import NumPyMinimumEigensolver, VQE\n",
    "from qiskit_nature.transformers.second_quantization.electronic import ActiveSpaceTransformer\n",
    "\n",
    "# improt qiskit nature tools\n",
    "from qiskit_nature.problems.second_quantization import ElectronicStructureProblem\n",
    "from qiskit_nature.converters.second_quantization import QubitConverter\n",
    "from qiskit_nature.mappers.second_quantization import JordanWignerMapper, ParityMapper\n",
    "from qiskit_nature.algorithms import GroundStateEigensolver\n",
    "from qiskit_nature.drivers import UnitsType, Molecule\n",
    "from qiskit_nature.drivers.second_quantization import (\n",
    "    ElectronicStructureDriverType,\n",
    "    ElectronicStructureMoleculeDriver,\n",
    ")\n",
    "from qiskit_nature.algorithms.pes_samplers import BOPESSampler\n",
    "\n",
    "import warnings\n",
    "\n",
    "warnings.simplefilter(\"ignore\", np.RankWarning)\n",
    "\n",
    "algorithm_globals.random_seed = 75"
   ]
  },
  {
   "cell_type": "markdown",
   "id": "specialized-foster",
   "metadata": {},
   "source": [
    "Jako klasický driver volíme Psi4 a jako bazický soubor cc-PVZD."
   ]
  },
  {
   "cell_type": "code",
   "execution_count": 3,
   "id": "oriented-absence",
   "metadata": {},
   "outputs": [],
   "source": [
    "#define the distance which will be regarded as a degree of freedom\n",
    "distance = partial(Molecule.absolute_distance, atom_pair=(1, 0))\n",
    "\n",
    "#define the molecule\n",
    "molecule = Molecule(\n",
    "    geometry=[(\"H\", [0.0, 0.0, 0.0]), (\"H\", [0.0, 0.0, 0.3])],\n",
    "    degrees_of_freedom=[distance],\n",
    ")\n",
    "\n",
    "# pass molecule to PSI4 driver with sto3g basis\n",
    "driver = ElectronicStructureMoleculeDriver(\n",
    "    molecule, basis=\"cc-pvdz\", driver_type=ElectronicStructureDriverType.PSI4\n",
    ")"
   ]
  },
  {
   "cell_type": "markdown",
   "id": "about-pattern",
   "metadata": {},
   "source": [
    "Zde můžeme vidět, jak vypadá fermionový operátor v druhém kvantování. Musíme zde však uvážit celkovou náročnost simulace při použití cc-PVZD souboru a využít tak ActiveSpaceTransformer. Ten vybere zadaný počet (zde 4) nejdůležitějších MO (běžně se jedná o MO v okolí Fermiho hladiny). Celkový počet qubitů je pak vzhledem ke dvoum možným spinům vynásoben dvěma (zde tedy 8)."
   ]
  },
  {
   "cell_type": "code",
   "execution_count": 6,
   "id": "expired-ridge",
   "metadata": {},
   "outputs": [
    {
     "name": "stdout",
     "output_type": "stream",
     "text": [
      "Fermionic Operator\n",
      "register length=8, number terms=300\n",
      "  -1.606866183545049 * ( +_0 -_0 )\n",
      "+ -0.16376080146174382 * ( +_0 -_2 )\n",
      "+ -0.4477994476238284 * ( +_1 -_1 )\n",
      "+ -0.16376080146174385 * ( +_2 -_0 )\n",
      "+ -0.4485087785965225 * ( +_2 -_2 )\n",
      "+ 0.02354934246 ...\n"
     ]
    }
   ],
   "source": [
    "#define eloctronic structure problem\n",
    "transformer = ActiveSpaceTransformer(\n",
    "    num_electrons=2, #how many electrons we have in our active space\n",
    "    num_molecular_orbitals=4, #how many orbitals we have in our active space\n",
    ")\n",
    "\n",
    "es_problem = ElectronicStructureProblem(driver, [transformer])\n",
    "second_q_op = es_problem.second_q_ops()\n",
    "print(second_q_op[0])"
   ]
  },
  {
   "cell_type": "markdown",
   "id": "arbitrary-wayne",
   "metadata": {},
   "source": [
    "Použijeme paritní mapování:"
   ]
  },
  {
   "cell_type": "code",
   "execution_count": 7,
   "id": "pharmaceutical-creativity",
   "metadata": {},
   "outputs": [
    {
     "name": "stdout",
     "output_type": "stream",
     "text": [
      "0.5773575652082534 * IIIIIIII\n",
      "- 0.12738234178634683 * IIIIIIIZ\n",
      "- 0.0372378893515163 * IIIIIZXX\n",
      "- 0.0372378893515163 * IIIIIIYY\n",
      "- 0.35114114031424326 * IIIIIIZZ\n",
      "- 0.4116606585279145 * IIIIIZZI\n",
      "- 0.9269859582295947 * IIIIZZII\n",
      "- 0.12738234178634703 * IIIZZIII\n",
      "- 0.03723788935151631 * IZXXZIII\n",
      "- 0.03723788935151631 * IIYYIIII\n",
      "- 0.35114114031424326 * IIZZIIII\n",
      "- 0.41166065852791456 * IZZIIIII\n",
      "- 0.9269859582295947 * ZZIIIIII\n",
      "+ 0.08584958205552126 * IIIIIIZI\n",
      "+ 0.09480231122402619 * IIIIIZZZ\n",
      "+ 0.1501334224937059 * IIIIZZIZ\n",
      "- 0.009788218226172759 * IIIIIZYY\n",
      "- 0.009788218226172759 * IIIIIIXX\n",
      "+ 0.025647908009963933 * IIIIZIXX\n",
      "+ 0.025647908009963933 * IIIIZZYY\n",
      "+ 0.20948957077725158 * IIIZZIIZ\n",
      "+ 0.040940200412151746 * IIIZZZXX\n",
      "+ 0.040940200412151746 * IIIZZIYY\n",
      "+ 0.005824762547412009 * IIZXZIZX\n",
      "- 0.005824762547412009 * IIIXIIZX\n",
      "- 0.005824762547412009 * IIZXZIIX\n",
      "+ 0.005824762547412009 * IIIXIIIX\n",
      "+ 0.04094020041215175 * IZXXZIIZ\n",
      "+ 0.04094020041215175 * IIYYIIIZ\n",
      "+ 0.01646721463133705 * IZXXZZXX\n",
      "+ 0.01646721463133705 * IIYYIZXX\n",
      "+ 0.01646721463133705 * IZXXZIYY\n",
      "+ 0.01646721463133705 * IIYYIIYY\n",
      "+ 0.03746325405636425 * ZXXXIXXX\n",
      "+ 0.03746325405636425 * IYXYZXXX\n",
      "+ 0.03746325405636425 * ZXXXZYXY\n",
      "+ 0.03746325405636425 * IYXYIYXY\n",
      "+ 0.09167434460293328 * IIZZIIIZ\n",
      "+ 0.0035052066826358036 * IIZZIZXX\n",
      "+ 0.0035052066826358036 * IIZZIIYY\n",
      "- 0.006283011543536956 * IZXZIIZX\n",
      "+ 0.006283011543536956 * IIXIIIZX\n",
      "+ 0.006283011543536956 * IZXZIIIX\n",
      "- 0.006283011543536956 * IIXIIIIX\n",
      "+ 0.11126952585536323 * IZZIIIIZ\n",
      "+ 0.010727486093682542 * IZZIIZXX\n",
      "+ 0.010727486093682542 * IZZIIIYY\n",
      "+ 0.0028613626478175016 * ZXZIZXXX\n",
      "- 0.0028613626478175016 * IXIIZXXX\n",
      "+ 0.0028613626478175016 * ZXZIIYXY\n",
      "- 0.0028613626478175016 * IXIIIYXY\n",
      "+ 0.18759667655007017 * ZZIIIIIZ\n",
      "+ 0.028509270657781433 * ZZIIIZXX\n",
      "+ 0.028509270657781433 * ZZIIIIYY\n",
      "+ 0.06281128054570956 * IIIIIZIZ\n",
      "+ 0.08783069251863618 * IIIIZZZZ\n",
      "+ 0.09167434460293328 * IIIZZIZZ\n",
      "- 0.006283011543536957 * IIZXZZXZ\n",
      "+ 0.006283011543536957 * IIIXIZXZ\n",
      "+ 0.006283011543536957 * IIZXZIXI\n",
      "- 0.006283011543536957 * IIIXIIXI\n",
      "+ 0.003505206682635803 * IZXXZIZZ\n",
      "+ 0.003505206682635803 * IIYYIIZZ\n",
      "+ 0.08064690161679819 * IIZZIIZZ\n",
      "+ 0.013757773849787103 * IZXZIZXZ\n",
      "- 0.013757773849787103 * IIXIIZXZ\n",
      "- 0.013757773849787103 * IZXZIIXI\n",
      "+ 0.013757773849787103 * IIXIIIXI\n",
      "+ 0.0018283158724261563 * ZXXZZXXZ\n",
      "+ 0.0018283158724261563 * IYYIZXXZ\n",
      "+ 0.0018283158724261563 * ZXXZIYYI\n",
      "+ 0.0018283158724261563 * IYYIIYYI\n",
      "+ 0.07656905439549666 * IZZIIIZZ\n",
      "+ 0.08965900839106233 * ZZIIIIZZ\n",
      "+ 0.10225296787733673 * IIIIZIZI\n",
      "+ 0.11126952585536323 * IIIZZZZI\n",
      "+ 0.010727486093682542 * IZXXZZZI\n",
      "+ 0.010727486093682542 * IIYYIZZI\n",
      "+ 0.0028613626478175016 * ZXXXIXZI\n",
      "+ 0.0028613626478175016 * IYXYZXZI\n",
      "- 0.0028613626478175016 * ZXXXZXII\n",
      "- 0.0028613626478175016 * IYXYIXII\n",
      "+ 0.07656905439549666 * IIZZIZZI\n",
      "+ 0.08347586010762446 * IZZIIZZI\n",
      "+ 0.0024810799432821973 * ZXZIZXZI\n",
      "- 0.0024810799432821973 * IXIIZXZI\n",
      "- 0.0024810799432821973 * ZXZIIXII\n",
      "+ 0.0024810799432821973 * IXIIIXII\n",
      "+ 0.10473404782061893 * ZZIIIZZI\n",
      "+ 0.18759667655007017 * IIIZIZII\n",
      "+ 0.028509270657781433 * IZXXIZII\n",
      "+ 0.028509270657781433 * IIYYZZII\n",
      "+ 0.08965900839106233 * IIZZZZII\n",
      "+ 0.10473404782061893 * IZZIZZII\n",
      "+ 0.19300447134531076 * ZZIIZZII\n",
      "+ 0.08584958205552126 * IIZIZIII\n",
      "+ 0.09480231122402619 * IZZZZIII\n",
      "+ 0.1501334224937059 * ZZIZZIII\n",
      "- 0.009788218226172759 * IZYYZIII\n",
      "- 0.009788218226172759 * IIXXIIII\n",
      "+ 0.025647908009963933 * ZIXXZIII\n",
      "+ 0.025647908009963933 * ZZYYIIII\n",
      "+ 0.06281128054570956 * IZIZIIII\n",
      "+ 0.08783069251863618 * ZZZZIIII\n",
      "+ 0.10225296787733673 * ZIZIIIII\n"
     ]
    }
   ],
   "source": [
    "#Parity mapping with reduction\n",
    "qubit_converter = QubitConverter(mapper=ParityMapper())\n",
    "qubit_op = qubit_converter.convert(second_q_op[0])\n",
    "print(qubit_op)"
   ]
  },
  {
   "cell_type": "markdown",
   "id": "constant-notion",
   "metadata": {},
   "source": [
    "V dalším definujeme úlohu a jako backend použijeme StatevectorSimulator."
   ]
  },
  {
   "cell_type": "code",
   "execution_count": 8,
   "id": "moral-arrangement",
   "metadata": {},
   "outputs": [],
   "source": [
    "#define quantum instance (using statevector simulator)\n",
    "quantum_instance = QuantumInstance(backend=Aer.get_backend(\"aer_simulator_statevector\"))\n",
    "solver = VQE(quantum_instance=quantum_instance)\n",
    "gsc = GroundStateEigensolver(qubit_converter, solver)"
   ]
  },
  {
   "cell_type": "markdown",
   "id": "demographic-richards",
   "metadata": {},
   "source": [
    "Úlohu budeme počítat v 10 ekvidistantně rozmístěných bodech pro vzdálenosti jader v rozmezí 0,2 až 2 Ångströmy. Ke vzorkování se použije třída BOPESSampler sloužící k vyhodnocení PES při Born-Oppenheimrově aproximaci. Bootstrapping volíme jako True."
   ]
  },
  {
   "cell_type": "code",
   "execution_count": 9,
   "id": "blessed-alberta",
   "metadata": {},
   "outputs": [],
   "source": [
    "# Specify degree of freedom (points of interest)\n",
    "points = np.linspace(0.2, 2, 10) #equidistantly distributes 10 points in given range\n",
    "results_full = {}  # full dictionary of results for each condition\n",
    "results = {}  # dictionary of (point,energy) results for each condition\n",
    "\n",
    "# define instance to sampler\n",
    "bs = BOPESSampler(gsc, bootstrap=True, num_bootstrap=None, extrapolator=None)\n",
    "\n",
    "# execute\n",
    "res = bs.sample(es_problem, points)\n",
    "results_full[f\"VQE\"] = res.raw_results\n",
    "results[f\"points_\"] = res.points\n",
    "results[f\"energies_\"] = res.energies"
   ]
  },
  {
   "cell_type": "markdown",
   "id": "attempted-deputy",
   "metadata": {},
   "source": [
    "Pro srovnání použijeme klasické řešení:"
   ]
  },
  {
   "cell_type": "code",
   "execution_count": 10,
   "id": "seasonal-incentive",
   "metadata": {},
   "outputs": [],
   "source": [
    "#compare to classical eigensolver\n",
    "# define numpy solver\n",
    "solver_numpy = NumPyMinimumEigensolver()\n",
    "me_gsc_numpy = GroundStateEigensolver(qubit_converter, solver_numpy)\n",
    "bs_classical = BOPESSampler(me_gsc_numpy, bootstrap=False, num_bootstrap=None, extrapolator=None)\n",
    "\n",
    "# execute\n",
    "res_np = bs_classical.sample(es_problem, points)\n",
    "results_full[\"np\"] = res_np.raw_results\n",
    "results[\"points_np\"] = res_np.points\n",
    "results[\"energies_np\"] = res_np.energies"
   ]
  },
  {
   "cell_type": "markdown",
   "id": "unnecessary-notice",
   "metadata": {},
   "source": [
    "Energie v jednotlivých bodech z VQE:"
   ]
  },
  {
   "cell_type": "code",
   "execution_count": 11,
   "id": "turned-benjamin",
   "metadata": {},
   "outputs": [
    {
     "name": "stdout",
     "output_type": "stream",
     "text": [
      "[(0.4939601007458503+0j), (-0.6166667288935881+0j), (-0.8705197407324557+0j), (-0.9495803379163372+0j), (-0.9780811967689603+0j), (-0.9882339426576832+0j), (-0.9906013889291293+0j), (-0.9898746912127826+0j), (-0.9867334585609999+0j), (-0.9850273564809602+0j)]\n"
     ]
    }
   ],
   "source": [
    "print(results[f\"energies_\"])"
   ]
  },
  {
   "cell_type": "markdown",
   "id": "colored-scenario",
   "metadata": {},
   "source": [
    "Energie v jednotlivých bodech klasicky:"
   ]
  },
  {
   "cell_type": "code",
   "execution_count": 12,
   "id": "proper-present",
   "metadata": {},
   "outputs": [
    {
     "name": "stdout",
     "output_type": "stream",
     "text": [
      "[(0.1232345082265005+0j), (-0.9269315463989791+0j), (-1.1239874226725566+0j), (-1.1495769898001378+0j), (-1.1295449523721945+0j), (-1.0986802335291157+0j), (-1.0689136094326663+0j), (-1.0446836755246118+0j), (-1.0272781978889076+0j), (-1.0157741593004987+0j)]\n"
     ]
    }
   ],
   "source": [
    "print(results[\"energies_np\"])"
   ]
  },
  {
   "cell_type": "markdown",
   "id": "empty-offer",
   "metadata": {},
   "source": [
    "Výsledky vykreslíme v grafu:"
   ]
  },
  {
   "cell_type": "code",
   "execution_count": 26,
   "id": "welcome-consultation",
   "metadata": {
    "scrolled": false
   },
   "outputs": [
    {
     "data": {
      "text/plain": [
       "Text(0, 0.5, 'Energy')"
      ]
     },
     "execution_count": 26,
     "metadata": {},
     "output_type": "execute_result"
    },
    {
     "data": {
      "image/png": "[encoded data removed]",
      "text/plain": [
       "<Figure size 1080x576 with 1 Axes>"
      ]
     },
     "metadata": {
      "needs_background": "light"
     },
     "output_type": "display_data"
    }
   ],
   "source": [
    "fig = plt.figure(figsize=(15, 8))\n",
    "\n",
    "plt.plot(results[f\"points_\"], results[f\"energies_\"], label=f\"VQE-cc-PVZD\")\n",
    "plt.plot(results[\"points_np\"], results[\"energies_np\"], label=\"classical-cc-PVZD\")\n",
    "plt.legend()\n",
    "plt.title(\"Dissociation profile cc-PVDZ\")\n",
    "plt.xlabel(\"Interatomic distance\")\n",
    "plt.ylabel(\"Energy\")\n"
   ]
  },
  {
   "cell_type": "markdown",
   "id": "developed-cross",
   "metadata": {},
   "source": [
    "Počet vyhodnocení:"
   ]
  },
  {
   "cell_type": "code",
   "execution_count": 14,
   "id": "imposed-sleeve",
   "metadata": {},
   "outputs": [
    {
     "name": "stdout",
     "output_type": "stream",
     "text": [
      "Total evaluations: \n",
      "3311\n"
     ]
    }
   ],
   "source": [
    "for condition, result_full in results_full.items():\n",
    "    if condition != \"np\":\n",
    "        print(\"Total evaluations: \")\n",
    "        sum = 0\n",
    "        for key in result_full:\n",
    "            sum += result_full[key].raw_result.cost_function_evals  \n",
    "        else:\n",
    "            continue\n",
    "    print(sum)"
   ]
  },
  {
   "cell_type": "code",
   "execution_count": null,
   "id": "purple-second",
   "metadata": {},
   "outputs": [],
   "source": [
    "# This code is a modification of Qiskit code licensed under the Apache License, Version 2.0."
   ]
  }
 ],
 "metadata": {
  "kernelspec": {
   "display_name": "Python 3",
   "language": "python",
   "name": "python3"
  },
  "language_info": {
   "codemirror_mode": {
    "name": "ipython",
    "version": 3
   },
   "file_extension": ".py",
   "mimetype": "text/x-python",
   "name": "python",
   "nbconvert_exporter": "python",
   "pygments_lexer": "ipython3",
   "version": "3.8.6"
  }
 },
 "nbformat": 4,
 "nbformat_minor": 5
}
